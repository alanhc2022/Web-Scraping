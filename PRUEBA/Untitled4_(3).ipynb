{
  "cells": [
    {
      "cell_type": "markdown",
      "metadata": {
        "id": "view-in-github",
        "colab_type": "text"
      },
      "source": [
        "<a href=\"https://colab.research.google.com/github/alanhc2022/Web-Scraping/blob/main/PRUEBA/Untitled4_(3).ipynb\" target=\"_parent\"><img src=\"https://colab.research.google.com/assets/colab-badge.svg\" alt=\"Open In Colab\"/></a>"
      ]
    },
    {
      "cell_type": "markdown",
      "id": "20e6230a-5cda-4eb2-998a-54afb1bbe6b9",
      "metadata": {
        "id": "20e6230a-5cda-4eb2-998a-54afb1bbe6b9"
      },
      "source": [
        "## _Análisis de datos y uso de Naive Bayes para predecir el éxito de una campaña de marketing bancario_"
      ]
    },
    {
      "cell_type": "markdown",
      "id": "2b438a80-84cf-400e-ac72-977af28a969c",
      "metadata": {
        "id": "2b438a80-84cf-400e-ac72-977af28a969c"
      },
      "source": [
        "**_Naive Bayes_**"
      ]
    },
    {
      "cell_type": "markdown",
      "id": "2a4b2e82-2ca0-4946-bc3f-486aa5fedec6",
      "metadata": {
        "id": "2a4b2e82-2ca0-4946-bc3f-486aa5fedec6"
      },
      "source": [
        "- Los clasificadores Bayesianos buscan responder a la pregunta: \"basados en los valores observados de los predictores, ¿Cuál es la probabilidad de que el resultados sea la clase $C_K$?.\n",
        "<br>\n",
        "\n",
        "- Se encuentra basado en el teorema de Bayes-Price.\n",
        "<br>\n",
        "\n",
        "- Estudios comparativos de diversos algoritmos de clasificación han encontrado que Naive Bayes es comparable en performance a los árboles de decisión y las redes neuronales.\n",
        "<br>\n",
        "\n",
        "- Suelen tener alta precisión y rapidez cuando son aplicados a grandes bases de datos.\n",
        "<br>\n",
        "\n",
        "- Una asunción importante es que el efecto del valor de un atributo para una clase dada es independiente de los valores del resto de los atributos (Independencia Condicional dentro de clases).\n",
        "<br>\n",
        "\n",
        "- El supuesto anterior simplifica los cálculos, por eso recibe el nombre de $Naive$."
      ]
    },
    {
      "cell_type": "markdown",
      "id": "a15dace3-3a94-4442-98a0-9573fe97df3d",
      "metadata": {
        "id": "a15dace3-3a94-4442-98a0-9573fe97df3d"
      },
      "source": [
        "### _Contenido_\n",
        "\n"
      ]
    },
    {
      "cell_type": "markdown",
      "id": "2ede866f-37a9-44e9-af0a-293f482e533a",
      "metadata": {
        "id": "2ede866f-37a9-44e9-af0a-293f482e533a"
      },
      "source": [
        "**_1.-Contexto del proyecto_**\n",
        "\n",
        "**_2.-Objetivo_**\n",
        "\n",
        "**_3.-Importación de librerías a utilizar_**\n",
        "\n",
        "**_4.-Importación de datos_**\n",
        "\n",
        "**_5.-Exploración de datos_**\n",
        "\n",
        "**_6.-Preprocesamiento de datos_**\n",
        "\n",
        "**_7.-Entrenamiento del modelo_**\n",
        "\n",
        "**_8.-Conclusiones finales_**\n"
      ]
    },
    {
      "cell_type": "markdown",
      "id": "d06f239d-8c98-4700-b182-fa1fac3d2b7c",
      "metadata": {
        "id": "d06f239d-8c98-4700-b182-fa1fac3d2b7c"
      },
      "source": [
        "# 1.-**_Contexto del proyecto:_**"
      ]
    },
    {
      "cell_type": "markdown",
      "id": "69cbd873-b588-4e2c-8fc8-d8f7e5cf5e66",
      "metadata": {
        "id": "69cbd873-b588-4e2c-8fc8-d8f7e5cf5e66"
      },
      "source": [
        "*_Los datos están relacionados con campañas de marketing directo de una institución bancaria portuguesa. Las campañas de marketing se basaron en llamadas telefónicas. A menudo, se requirió más de un contacto con el mismo cliente, para acceder si el producto (depósito a plazo bancario) sería ('sí') o no ('no') suscrito_*"
      ]
    },
    {
      "cell_type": "markdown",
      "id": "ca8eff45-c1de-415f-ad3f-c91bc1645398",
      "metadata": {
        "id": "ca8eff45-c1de-415f-ad3f-c91bc1645398"
      },
      "source": [
        "**_Descripción de variables_**"
      ]
    },
    {
      "cell_type": "markdown",
      "id": "ca0aea19-7fa1-4e2e-80a8-976da70a6701",
      "metadata": {
        "id": "ca0aea19-7fa1-4e2e-80a8-976da70a6701"
      },
      "source": [
        "*_Variables de entrada_*"
      ]
    },
    {
      "cell_type": "markdown",
      "id": "c6fdcdd9-c14a-490f-9b41-7ff79e4b2559",
      "metadata": {
        "id": "c6fdcdd9-c14a-490f-9b41-7ff79e4b2559"
      },
      "source": [
        "\n",
        "*_1 - edad (numérico)_*\n",
        "\n",
        "*_2 - trabajo: tipo de trabajo (categórico: \"admin.\", \"desconocido\", \"desempleado\", \"gerente\", \"empleada doméstica\", \"empresario\", \"estudiante\", \"obrero\", \"autónomo\", \"jubilado\", \"técnico\", \"servicios\")_*\n",
        "\n",
        "*_3 - estado civil: estado civil (categórico: \"casado\", \"divorciado\", \"soltero\"; nota: \"divorciado\" significa divorciado o viudo)_*\n",
        "\n",
        "*_4 - educación (categórico: \"desconocido\", \"secundario\", \"primario\", \"terciario\")_*\n",
        "\n",
        "*_5 - mora: ¿tiene crédito en mora? (binario: \"sí\", \"no\")_*\n",
        "\n",
        "*_6 - saldo: saldo medio anual, en euros (numérico)_*\n",
        "\n",
        "*_7 - vivienda: ¿tiene préstamo de vivienda? (binario: \"sí\", \"no\")_*\n",
        "\n",
        "*_8 - préstamo: ¿tiene préstamo personal? (binario: \"sí\", \"no\")_* # relacionado con el último contacto de la campaña actual\n",
        "\n",
        "*_9 - contacto: tipo de comunicación del contacto (categórico: \"desconocido\", \"teléfono\", \"celular\")_*\n",
        "\n",
        "*_10 - día: último día del mes del contacto (numérico)_*\n",
        "\n",
        "*_11 - mes: último mes del año del contacto (categórico: \"ene\", \"feb\", \"mar\", ..., \"nov\", \"dic\")_*\n",
        "\n",
        "*_12 - duración: duración del último contacto, en segundos (numérico)_* # otros atributos\n",
        "\n",
        "*_13 - campaña: número de contactos realizados durante esta campaña y para este cliente (numérico, incluye el último contacto)_*\n",
        "\n",
        "*_14 - pdays: número de días que pasaron después de que el cliente fue contactado por última vez de una campaña anterior (numérico, -1 significa que el cliente no fue contactado previamente)_*\n",
        "\n",
        "*_15 - anterior: número de contactos realizados antes de esta campaña y para este cliente (numérico)_*\n",
        "\n",
        "*_16 - poutcome: resultado de la campaña de marketing anterior (categórico: \"desconocido\", \"otro\", \"fracaso\", \"éxito\")_*"
      ]
    },
    {
      "cell_type": "markdown",
      "id": "76281c35-5d88-47d1-9d29-64a283d9c4d8",
      "metadata": {
        "id": "76281c35-5d88-47d1-9d29-64a283d9c4d8"
      },
      "source": [
        "*_Variable de salida o variable objetivo(\"y\")_*"
      ]
    },
    {
      "cell_type": "markdown",
      "id": "25133f0a-ed85-47c4-9494-b39041af3c83",
      "metadata": {
        "id": "25133f0a-ed85-47c4-9494-b39041af3c83"
      },
      "source": [
        "*_17-y-Si el cliente suscribió un depósito a plazo (binario: \"sí\", \"no\")_*"
      ]
    },
    {
      "cell_type": "markdown",
      "id": "15d23c3f-9b1a-4a00-a6a9-074fc6de5b94",
      "metadata": {
        "id": "15d23c3f-9b1a-4a00-a6a9-074fc6de5b94"
      },
      "source": [
        "**Fuente :**\n",
        "    \n",
        "[Moro et al., 2014] S. Moro, P. Cortez and P. Rita. A Data-Driven Approach to Predict the Success of Bank Telemarketing. Decision Support Systems, Elsevier, 62:22-31, June 2014"
      ]
    },
    {
      "cell_type": "markdown",
      "id": "6a06fe10-8ae5-4f3f-84fc-5d0bc31a67ce",
      "metadata": {
        "id": "6a06fe10-8ae5-4f3f-84fc-5d0bc31a67ce"
      },
      "source": [
        "# 2.-**_Objetivo_**"
      ]
    },
    {
      "cell_type": "markdown",
      "id": "756e7d2c-eaff-49ee-8e7b-1a2be5741d5b",
      "metadata": {
        "id": "756e7d2c-eaff-49ee-8e7b-1a2be5741d5b"
      },
      "source": [
        "*_El objetivo de la clasificación es predecir si el cliente suscribirá (sí=1 / no=0) un depósito a plazo (variable y)._*"
      ]
    },
    {
      "cell_type": "markdown",
      "id": "fe7570d6-13c9-4790-bd0f-54b80439d473",
      "metadata": {
        "id": "fe7570d6-13c9-4790-bd0f-54b80439d473"
      },
      "source": [
        "# 3.-**_Importación de librerías necesarias_**"
      ]
    },
    {
      "cell_type": "code",
      "execution_count": null,
      "id": "1341d957-df73-41d3-aade-9de8b306c044",
      "metadata": {
        "id": "1341d957-df73-41d3-aade-9de8b306c044"
      },
      "outputs": [],
      "source": [
        "import os            #Para Direccionar la ruta de trabajo\n",
        "import pandas as pd  #Para trabajar con DataFrames\n",
        "import numpy as np   #Para manejo de arraysa\n",
        "import json5         #Para importar jsons\n",
        "import psycopg2      #Para conexión a motor de Postgres\n",
        "import pyodbc        #Para conexión a motor de Sql Server\n",
        "import requests      #Para trabajar con APIs libres\n",
        "import tweepy        #Para trabajar con el API de twitter\n",
        "import matplotlib.pyplot as plt  # para el gràfico de barras\n",
        "\n",
        "# Para codificar los predictores cualitativos\n",
        "from collections import defaultdict\n",
        "from sklearn.preprocessing import LabelEncoder\n",
        "\n",
        "# Para el balanceo de datos\n",
        "#pip install --upgrade imbalanced-learn\n",
        "#!pip install scikit-learn imbalanced-learn\n",
        "#!pip install scikit-learn==0.24.2\n",
        "from imblearn.combine import SMOTETomek\n",
        "from imblearn.under_sampling import NearMiss\n",
        "from imblearn.over_sampling import RandomOverSampler\n"
      ]
    },
    {
      "cell_type": "markdown",
      "id": "d4cb6682-a8fb-44a5-be76-07ba59832393",
      "metadata": {
        "id": "d4cb6682-a8fb-44a5-be76-07ba59832393"
      },
      "source": [
        "# 4.-**_Importarción de los datos_**"
      ]
    },
    {
      "cell_type": "markdown",
      "id": "9b6a52d7-2197-462a-9bd5-a09fb10354d9",
      "metadata": {
        "id": "9b6a52d7-2197-462a-9bd5-a09fb10354d9"
      },
      "source": []
    },
    {
      "cell_type": "code",
      "execution_count": null,
      "id": "e3963e1e-eb63-4355-84c6-5605bb9c339c",
      "metadata": {
        "id": "e3963e1e-eb63-4355-84c6-5605bb9c339c",
        "outputId": "7e0f9379-f850-4fae-ea67-f112437d0806"
      },
      "outputs": [
        {
          "data": {
            "text/plain": [
              "'C:\\\\Users\\\\MibsanTZ\\\\Downloads\\\\proyecto'"
            ]
          },
          "execution_count": 374,
          "metadata": {},
          "output_type": "execute_result"
        }
      ],
      "source": [
        "#Directorio de trabajo actual\n",
        "os.getcwd()"
      ]
    },
    {
      "cell_type": "code",
      "execution_count": null,
      "id": "3e200fed-a2a4-42ed-ba70-319b6f2d124e",
      "metadata": {
        "id": "3e200fed-a2a4-42ed-ba70-319b6f2d124e"
      },
      "outputs": [],
      "source": [
        "# direccionando mi archivo de trabajo\n",
        "os.chdir(r\"C:\\Users\\MibsanTZ\\Downloads\\proyecto\")"
      ]
    },
    {
      "cell_type": "code",
      "execution_count": null,
      "id": "f83162ad-2653-4a14-aa0e-a4504d24fa1a",
      "metadata": {
        "id": "f83162ad-2653-4a14-aa0e-a4504d24fa1a"
      },
      "outputs": [],
      "source": [
        "#Importando el archivo de trabajo\n",
        "csv=\"bank_full.csv\""
      ]
    },
    {
      "cell_type": "code",
      "execution_count": null,
      "id": "18718cad-f4b1-4f4d-9bb8-1752653e8b87",
      "metadata": {
        "id": "18718cad-f4b1-4f4d-9bb8-1752653e8b87",
        "outputId": "8c5c6943-19c4-4a9b-f410-cd7a556b6c3d"
      },
      "outputs": [
        {
          "data": {
            "text/html": [
              "<div>\n",
              "<style scoped>\n",
              "    .dataframe tbody tr th:only-of-type {\n",
              "        vertical-align: middle;\n",
              "    }\n",
              "\n",
              "    .dataframe tbody tr th {\n",
              "        vertical-align: top;\n",
              "    }\n",
              "\n",
              "    .dataframe thead th {\n",
              "        text-align: right;\n",
              "    }\n",
              "</style>\n",
              "<table border=\"1\" class=\"dataframe\">\n",
              "  <thead>\n",
              "    <tr style=\"text-align: right;\">\n",
              "      <th></th>\n",
              "      <th>age</th>\n",
              "      <th>job</th>\n",
              "      <th>marital</th>\n",
              "      <th>education</th>\n",
              "      <th>default</th>\n",
              "      <th>balance</th>\n",
              "      <th>housing</th>\n",
              "      <th>loan</th>\n",
              "      <th>contact</th>\n",
              "      <th>day</th>\n",
              "      <th>month</th>\n",
              "      <th>duration</th>\n",
              "      <th>campaign</th>\n",
              "      <th>pdays</th>\n",
              "      <th>previous</th>\n",
              "      <th>poutcome</th>\n",
              "      <th>y</th>\n",
              "    </tr>\n",
              "  </thead>\n",
              "  <tbody>\n",
              "    <tr>\n",
              "      <th>0</th>\n",
              "      <td>58</td>\n",
              "      <td>management</td>\n",
              "      <td>married</td>\n",
              "      <td>tertiary</td>\n",
              "      <td>no</td>\n",
              "      <td>2143</td>\n",
              "      <td>yes</td>\n",
              "      <td>no</td>\n",
              "      <td>unknown</td>\n",
              "      <td>5</td>\n",
              "      <td>may</td>\n",
              "      <td>261</td>\n",
              "      <td>1</td>\n",
              "      <td>-1</td>\n",
              "      <td>0</td>\n",
              "      <td>unknown</td>\n",
              "      <td>no</td>\n",
              "    </tr>\n",
              "    <tr>\n",
              "      <th>1</th>\n",
              "      <td>44</td>\n",
              "      <td>technician</td>\n",
              "      <td>single</td>\n",
              "      <td>secondary</td>\n",
              "      <td>no</td>\n",
              "      <td>29</td>\n",
              "      <td>yes</td>\n",
              "      <td>no</td>\n",
              "      <td>unknown</td>\n",
              "      <td>5</td>\n",
              "      <td>may</td>\n",
              "      <td>151</td>\n",
              "      <td>1</td>\n",
              "      <td>-1</td>\n",
              "      <td>0</td>\n",
              "      <td>unknown</td>\n",
              "      <td>no</td>\n",
              "    </tr>\n",
              "    <tr>\n",
              "      <th>2</th>\n",
              "      <td>33</td>\n",
              "      <td>entrepreneur</td>\n",
              "      <td>married</td>\n",
              "      <td>secondary</td>\n",
              "      <td>no</td>\n",
              "      <td>2</td>\n",
              "      <td>yes</td>\n",
              "      <td>yes</td>\n",
              "      <td>unknown</td>\n",
              "      <td>5</td>\n",
              "      <td>may</td>\n",
              "      <td>76</td>\n",
              "      <td>1</td>\n",
              "      <td>-1</td>\n",
              "      <td>0</td>\n",
              "      <td>unknown</td>\n",
              "      <td>no</td>\n",
              "    </tr>\n",
              "  </tbody>\n",
              "</table>\n",
              "</div>"
            ],
            "text/plain": [
              "   age           job  marital  education default  balance housing loan  \\\n",
              "0   58    management  married   tertiary      no     2143     yes   no   \n",
              "1   44    technician   single  secondary      no       29     yes   no   \n",
              "2   33  entrepreneur  married  secondary      no        2     yes  yes   \n",
              "\n",
              "   contact  day month  duration  campaign  pdays  previous poutcome   y  \n",
              "0  unknown    5   may       261         1     -1         0  unknown  no  \n",
              "1  unknown    5   may       151         1     -1         0  unknown  no  \n",
              "2  unknown    5   may        76         1     -1         0  unknown  no  "
            ]
          },
          "execution_count": 382,
          "metadata": {},
          "output_type": "execute_result"
        }
      ],
      "source": [
        "banca = pd.read_csv(csv, sep=\";\")\n",
        "banca.head(3)"
      ]
    },
    {
      "cell_type": "markdown",
      "id": "aa16c2b6-cd77-41d9-b28c-bcd9f7f17819",
      "metadata": {
        "id": "aa16c2b6-cd77-41d9-b28c-bcd9f7f17819"
      },
      "source": [
        "# 5.-**_Exploración de los datos_**"
      ]
    },
    {
      "cell_type": "markdown",
      "id": "114a5b7e-d110-4d03-8b29-3824e4776a6a",
      "metadata": {
        "id": "114a5b7e-d110-4d03-8b29-3824e4776a6a"
      },
      "source": [
        "*_En primera instancia vamos a valorar la estructura del dataset, conocer la clase de variables con las que vamos a trabajar y si dentro del dataset encontramos missing values que puedan dificultar la gestión de los datos. En este caso, no hay ningún NA, lo que nos hace trabajar el dataset sin ningún problema._*"
      ]
    },
    {
      "cell_type": "code",
      "execution_count": null,
      "id": "c1cfe42f-263c-43b9-954e-5b74e085c078",
      "metadata": {
        "id": "c1cfe42f-263c-43b9-954e-5b74e085c078",
        "outputId": "76aabd43-4c5a-4436-c03f-8b10072abc0b"
      },
      "outputs": [
        {
          "data": {
            "text/plain": [
              "age          0\n",
              "job          0\n",
              "marital      0\n",
              "education    0\n",
              "default      0\n",
              "balance      0\n",
              "housing      0\n",
              "loan         0\n",
              "contact      0\n",
              "day          0\n",
              "month        0\n",
              "duration     0\n",
              "campaign     0\n",
              "pdays        0\n",
              "previous     0\n",
              "poutcome     0\n",
              "y            0\n",
              "dtype: int64"
            ]
          },
          "execution_count": 386,
          "metadata": {},
          "output_type": "execute_result"
        }
      ],
      "source": [
        "# Observamos cuantos valores faltantes hay en cada variable\n",
        "banca.isna().sum()"
      ]
    },
    {
      "cell_type": "code",
      "execution_count": null,
      "id": "d33f2f38-3d5d-4664-997b-c499820fc610",
      "metadata": {
        "id": "d33f2f38-3d5d-4664-997b-c499820fc610",
        "outputId": "114e4736-a318-4dce-c433-7c0ad0481398"
      },
      "outputs": [
        {
          "name": "stdout",
          "output_type": "stream",
          "text": [
            "<class 'pandas.core.frame.DataFrame'>\n",
            "RangeIndex: 45211 entries, 0 to 45210\n",
            "Data columns (total 17 columns):\n",
            " #   Column     Non-Null Count  Dtype \n",
            "---  ------     --------------  ----- \n",
            " 0   age        45211 non-null  int64 \n",
            " 1   job        45211 non-null  object\n",
            " 2   marital    45211 non-null  object\n",
            " 3   education  45211 non-null  object\n",
            " 4   default    45211 non-null  object\n",
            " 5   balance    45211 non-null  int64 \n",
            " 6   housing    45211 non-null  object\n",
            " 7   loan       45211 non-null  object\n",
            " 8   contact    45211 non-null  object\n",
            " 9   day        45211 non-null  int64 \n",
            " 10  month      45211 non-null  object\n",
            " 11  duration   45211 non-null  int64 \n",
            " 12  campaign   45211 non-null  int64 \n",
            " 13  pdays      45211 non-null  int64 \n",
            " 14  previous   45211 non-null  int64 \n",
            " 15  poutcome   45211 non-null  object\n",
            " 16  y          45211 non-null  object\n",
            "dtypes: int64(7), object(10)\n",
            "memory usage: 5.9+ MB\n"
          ]
        }
      ],
      "source": [
        "#Obtener la informacion del dataframe\n",
        "banca.info()"
      ]
    },
    {
      "cell_type": "code",
      "execution_count": null,
      "id": "b864e3d8-76a4-4095-ba3b-91f74e6e36b7",
      "metadata": {
        "id": "b864e3d8-76a4-4095-ba3b-91f74e6e36b7"
      },
      "outputs": [],
      "source": []
    },
    {
      "cell_type": "code",
      "execution_count": null,
      "id": "32293b17-f289-47af-972e-0055d2c95e3c",
      "metadata": {
        "id": "32293b17-f289-47af-972e-0055d2c95e3c",
        "outputId": "bb65ea36-2e00-4654-d5df-493fe235dbc6"
      },
      "outputs": [
        {
          "data": {
            "text/plain": [
              "(45211, 17)"
            ]
          },
          "execution_count": 388,
          "metadata": {},
          "output_type": "execute_result"
        }
      ],
      "source": [
        "# Ver la dimensión del DataFrame\n",
        "dim =banca.shape\n",
        "dim"
      ]
    },
    {
      "cell_type": "markdown",
      "id": "99230959-7115-47cd-9dbd-3a23e6882953",
      "metadata": {
        "id": "99230959-7115-47cd-9dbd-3a23e6882953"
      },
      "source": [
        "*_Una vez realizado un primer análisis de la estructura de los datos(banca), se lleva a cabo un análisis visual para facilitar la compresión de los datos. Para ello, podemos llevar a cabo una gran variedad de puntos y visualizaciones. En este caso, a modo de muestra simplemente visualizaremos un histograma con la edad respecto al dataset._*\n",
        "\n",
        "*_Dentro de este punto podemos explorar aspectos como:_*\n",
        "\n",
        "*_<b>.</b> Correlación de edad, estado sentimental y trabajo en la aceptación/no de un depósito._*\n",
        "\n",
        "*_<b>.</b> Posibilidad de renovación del depósito en base a un histórico anterior._*\n",
        "\n",
        "*_<b>.</b> Número de contactos por qué medio y tasas de éxito (alternativas de mejora del proceso)_*"
      ]
    },
    {
      "cell_type": "code",
      "execution_count": null,
      "id": "55daacfc-386d-46e2-af8b-cd6d1a0d54dd",
      "metadata": {
        "id": "55daacfc-386d-46e2-af8b-cd6d1a0d54dd"
      },
      "outputs": [],
      "source": [
        "import seaborn as sns\n"
      ]
    },
    {
      "cell_type": "code",
      "execution_count": null,
      "id": "4d622764-b2ac-4b1d-876a-34ee06b74c0f",
      "metadata": {
        "id": "4d622764-b2ac-4b1d-876a-34ee06b74c0f",
        "outputId": "c9745bb7-a169-44cf-ebd4-2a4a93b82bad"
      },
      "outputs": [
        {
          "name": "stderr",
          "output_type": "stream",
          "text": [
            "C:\\Users\\MibsanTZ\\anaconda3\\Lib\\site-packages\\seaborn\\_oldcore.py:1119: FutureWarning: use_inf_as_na option is deprecated and will be removed in a future version. Convert inf values to NaN before operating instead.\n",
            "  with pd.option_context('mode.use_inf_as_na', True):\n"
          ]
        },
        {
          "data": {
            "image/png": "[encoded data removed]",
            "text/plain": [
              "<Figure size 640x480 with 1 Axes>"
            ]
          },
          "metadata": {},
          "output_type": "display_data"
        }
      ],
      "source": [
        "# histograma\n",
        "sns.histplot(banca['age'], bins=20, kde=True, color='#1f77b4')  # Azul en formato hexadecimal\n",
        "\n",
        "# Título y etiquetas de los ejes\n",
        "plt.title(\"Histograma evolución edad dataset\", fontsize=16, fontweight='bold')\n",
        "plt.xlabel(\"Edad\", fontsize=12)\n",
        "plt.ylabel(\"Densidad\", fontsize=12)\n",
        "\n",
        "# Mostrar el gráfico\n",
        "plt.show()"
      ]
    },
    {
      "cell_type": "code",
      "execution_count": null,
      "id": "19be0f44-9fc7-4bbc-bc86-a0443b040743",
      "metadata": {
        "id": "19be0f44-9fc7-4bbc-bc86-a0443b040743",
        "outputId": "66d7d7d5-8159-480b-9cab-370485729a8a"
      },
      "outputs": [
        {
          "data": {
            "image/png": "[encoded data removed]",
            "text/plain": [
              "<Figure size 640x480 with 1 Axes>"
            ]
          },
          "metadata": {},
          "output_type": "display_data"
        }
      ],
      "source": [
        "\n",
        "# gráfico de barras\n",
        "sns.countplot(x='job', hue='y', data=banca, palette=['#1f77b4', '#2ca02c'])  # Azul y verde como colores personalizados\n",
        "\n",
        "# Título y etiquetas\n",
        "plt.title(\"Tipo de trabajo vs decision\", fontsize=16, fontweight='bold', color='darkblue')\n",
        "plt.xlabel(\"Job Types\", fontsize=12, color='darkblue')\n",
        "plt.ylabel(\"Densidad\", fontsize=12, color='darkblue')\n",
        "# Leyenda\n",
        "plt.legend(title='y', title_fontsize='13', fontsize='11', loc='upper right')\n",
        "# Mejorar visualización\n",
        "plt.xticks(rotation=45, ha='right')  # Rotar las etiquetas para una mejor legibilidad\n",
        "plt.grid(axis='y', linestyle='--', alpha=0.7)  # Agregar líneas de cuadrícula para mejorar la visualización\n",
        "\n",
        "# Mostrar el gráfico\n",
        "plt.tight_layout()  # Ajustar para evitar solapamientos\n",
        "plt.show()"
      ]
    },
    {
      "cell_type": "code",
      "execution_count": null,
      "id": "e7c08b5a-2ab0-4b79-a407-23973a499895",
      "metadata": {
        "id": "e7c08b5a-2ab0-4b79-a407-23973a499895",
        "outputId": "5dd1fb2a-0480-4889-97bd-31c4e3a36d61"
      },
      "outputs": [
        {
          "data": {
            "image/png": "[encoded data removed]",
            "text/plain": [
              "<Figure size 1000x600 with 1 Axes>"
            ]
          },
          "metadata": {},
          "output_type": "display_data"
        }
      ],
      "source": [
        "# Gráfico de barras con el conteo de las categorías\n",
        "plt.figure(figsize=(10, 6))\n",
        "sns.countplot(x='contact', hue='y', data=banca, palette='viridis')\n",
        "\n",
        "# Títulos y etiquetas\n",
        "plt.title(\"Medio de contacto y Estado actual de depósito\", fontsize=16,fontweight='bold', color='darkblue')\n",
        "plt.xlabel(\"Edad\", fontsize=12, color='darkblue')\n",
        "plt.ylabel(\"Estado actual del depósito\", fontsize=12, color='darkblue')\n",
        "\n",
        "# Mostrar el gráfico\n",
        "plt.show()"
      ]
    },
    {
      "cell_type": "code",
      "execution_count": null,
      "id": "d3f8a82b-af5a-4f66-a42a-105673c11a05",
      "metadata": {
        "id": "d3f8a82b-af5a-4f66-a42a-105673c11a05",
        "outputId": "1551d70f-f0ca-4d1c-d38e-1564c20b83a1"
      },
      "outputs": [
        {
          "data": {
            "image/png": "[encoded data removed]",
            "text/plain": [
              "<Figure size 1000x600 with 1 Axes>"
            ]
          },
          "metadata": {},
          "output_type": "display_data"
        }
      ],
      "source": [
        "# Crear el gráfico de barras con barras más anchas\n",
        "plt.figure(figsize=(10, 6))\n",
        "sns.countplot(x='age', hue='marital', data=banca, palette='Set2', width=2)  # Ajustar el parámetro width\n",
        "\n",
        "# Título y etiquetas\n",
        "plt.title(\"Edad y situación sentimental\", fontsize=16, fontweight='bold')\n",
        "plt.xlabel(\"Edad\", fontsize=12)\n",
        "plt.ylabel(\"Estado sentimental\", fontsize=12)\n",
        "\n",
        "# Agregar la leyenda\n",
        "plt.legend(title='Estado Sentimental', title_fontsize='13', fontsize='11', loc='upper right')\n",
        "\n",
        "# Mostrar el gráfico\n",
        "plt.show()"
      ]
    },
    {
      "cell_type": "code",
      "execution_count": null,
      "id": "25a082c8-cd41-444b-afe4-5224dda0da8c",
      "metadata": {
        "id": "25a082c8-cd41-444b-afe4-5224dda0da8c",
        "outputId": "057dd572-17a0-4306-ae22-9b27c09182d5"
      },
      "outputs": [
        {
          "name": "stdout",
          "output_type": "stream",
          "text": [
            "y\n",
            "no     39922\n",
            "yes     5289\n",
            "Name: count, dtype: int64\n"
          ]
        }
      ],
      "source": [
        "# Crear la tabla de frecuencias para la columna 'y' en el DataFrame 'banca'\n",
        "reparto_y = banca['y'].value_counts()\n",
        "print(reparto_y)"
      ]
    },
    {
      "cell_type": "code",
      "execution_count": null,
      "id": "6eb558c8-36a4-4939-9d48-7b55b97d30c4",
      "metadata": {
        "id": "6eb558c8-36a4-4939-9d48-7b55b97d30c4",
        "outputId": "ab8b5b28-a0c5-4116-d8ac-72b36703e526"
      },
      "outputs": [
        {
          "data": {
            "image/png": "[encoded data removed]",
            "text/plain": [
              "<Figure size 1000x600 with 1 Axes>"
            ]
          },
          "metadata": {},
          "output_type": "display_data"
        }
      ],
      "source": [
        "# Crear el gráfico de barras con color azul gris\n",
        "plt.figure(figsize=(10, 6))\n",
        "plt.bar(reparto_y.index, reparto_y.values, color='#6a7f98')  # Azul gris (#6a7f98)\n",
        "\n",
        "# Título y etiquetas\n",
        "plt.title(\"Reparto de estado actual depósitos\", fontsize=16, fontweight='bold')\n",
        "plt.xlabel(\"Estado depósito\", fontsize=12)\n",
        "plt.ylabel(\"Cantidad\", fontsize=12)\n",
        "\n",
        "# Mostrar el gráfico\n",
        "plt.show()"
      ]
    },
    {
      "cell_type": "code",
      "execution_count": null,
      "id": "97279bb2-4d83-41be-899b-55637199b257",
      "metadata": {
        "id": "97279bb2-4d83-41be-899b-55637199b257",
        "outputId": "7e41f73d-1b7f-4c56-9333-5d91f3861895"
      },
      "outputs": [
        {
          "data": {
            "image/png": "[encoded data removed]",
            "text/plain": [
              "<Figure size 640x480 with 1 Axes>"
            ]
          },
          "metadata": {},
          "output_type": "display_data"
        }
      ],
      "source": [
        "#Boxplot de edad vs estado\n",
        "sns.boxplot(x=banca.y,\n",
        "            y=banca.age)\n",
        "plt.title('Boxplot de edad vs estado(y)')\n",
        "plt.show()"
      ]
    },
    {
      "cell_type": "markdown",
      "id": "58d06af0-7602-44f8-b620-659075d2a6ec",
      "metadata": {
        "id": "58d06af0-7602-44f8-b620-659075d2a6ec"
      },
      "source": [
        "**_Alternativas de mejora de proceso_**\n",
        "\n",
        "*_A continuación se obverva el canal por el que hemos tenido más éxito. Esto nos capacita para definir acciones de gran valor como mejora del proceso de telemarketing._*"
      ]
    },
    {
      "cell_type": "code",
      "execution_count": null,
      "id": "69642648-a263-4e29-8ae1-cc95cdcbabc8",
      "metadata": {
        "id": "69642648-a263-4e29-8ae1-cc95cdcbabc8",
        "outputId": "82f521ba-2a8b-4fa5-ae59-2e7e45d483c6"
      },
      "outputs": [
        {
          "name": "stdout",
          "output_type": "stream",
          "text": [
            "y             no   yes\n",
            "contact               \n",
            "cellular   24916  4369\n",
            "telephone   2516   390\n",
            "unknown    12490   530\n"
          ]
        }
      ],
      "source": [
        "df_duracion_medio_exito = banca.groupby(['contact', 'y']).size().reset_index(name='Duration')\n",
        "\n",
        "# Mostrar la tabla de contingencia\n",
        "contingency_table = pd.crosstab(index=df_duracion_medio_exito['contact'],\n",
        "                                columns=df_duracion_medio_exito['y'],\n",
        "                                values=df_duracion_medio_exito['Duration'],\n",
        "                                aggfunc='sum',\n",
        "                                dropna=False)\n",
        "\n",
        "print(contingency_table)"
      ]
    },
    {
      "cell_type": "markdown",
      "id": "dcb38136-b5b1-4bbe-aa91-faa7cad6ee31",
      "metadata": {
        "id": "dcb38136-b5b1-4bbe-aa91-faa7cad6ee31"
      },
      "source": [
        "# 6.-**_Preprocesamiento de datos_**"
      ]
    },
    {
      "cell_type": "markdown",
      "id": "4b3f8bbb-9a4b-44e2-bea0-5f0f75882476",
      "metadata": {
        "id": "4b3f8bbb-9a4b-44e2-bea0-5f0f75882476"
      },
      "source": [
        "### 6.1 _Codificación de predictores cualitativos_"
      ]
    },
    {
      "cell_type": "code",
      "execution_count": null,
      "id": "0e8c9623-ad07-4fda-870d-35c9699d18a9",
      "metadata": {
        "id": "0e8c9623-ad07-4fda-870d-35c9699d18a9",
        "outputId": "a6729ebe-f521-468a-f188-a1de333d5052"
      },
      "outputs": [
        {
          "data": {
            "text/html": [
              "<div>\n",
              "<style scoped>\n",
              "    .dataframe tbody tr th:only-of-type {\n",
              "        vertical-align: middle;\n",
              "    }\n",
              "\n",
              "    .dataframe tbody tr th {\n",
              "        vertical-align: top;\n",
              "    }\n",
              "\n",
              "    .dataframe thead th {\n",
              "        text-align: right;\n",
              "    }\n",
              "</style>\n",
              "<table border=\"1\" class=\"dataframe\">\n",
              "  <thead>\n",
              "    <tr style=\"text-align: right;\">\n",
              "      <th></th>\n",
              "      <th>age</th>\n",
              "      <th>job</th>\n",
              "      <th>marital</th>\n",
              "      <th>education</th>\n",
              "      <th>default</th>\n",
              "      <th>balance</th>\n",
              "      <th>housing</th>\n",
              "      <th>loan</th>\n",
              "      <th>contact</th>\n",
              "      <th>day</th>\n",
              "      <th>month</th>\n",
              "      <th>duration</th>\n",
              "      <th>campaign</th>\n",
              "      <th>pdays</th>\n",
              "      <th>previous</th>\n",
              "      <th>poutcome</th>\n",
              "      <th>y</th>\n",
              "    </tr>\n",
              "  </thead>\n",
              "  <tbody>\n",
              "    <tr>\n",
              "      <th>0</th>\n",
              "      <td>58</td>\n",
              "      <td>management</td>\n",
              "      <td>married</td>\n",
              "      <td>tertiary</td>\n",
              "      <td>no</td>\n",
              "      <td>2143</td>\n",
              "      <td>yes</td>\n",
              "      <td>no</td>\n",
              "      <td>unknown</td>\n",
              "      <td>5</td>\n",
              "      <td>may</td>\n",
              "      <td>261</td>\n",
              "      <td>1</td>\n",
              "      <td>-1</td>\n",
              "      <td>0</td>\n",
              "      <td>unknown</td>\n",
              "      <td>no</td>\n",
              "    </tr>\n",
              "    <tr>\n",
              "      <th>1</th>\n",
              "      <td>44</td>\n",
              "      <td>technician</td>\n",
              "      <td>single</td>\n",
              "      <td>secondary</td>\n",
              "      <td>no</td>\n",
              "      <td>29</td>\n",
              "      <td>yes</td>\n",
              "      <td>no</td>\n",
              "      <td>unknown</td>\n",
              "      <td>5</td>\n",
              "      <td>may</td>\n",
              "      <td>151</td>\n",
              "      <td>1</td>\n",
              "      <td>-1</td>\n",
              "      <td>0</td>\n",
              "      <td>unknown</td>\n",
              "      <td>no</td>\n",
              "    </tr>\n",
              "    <tr>\n",
              "      <th>2</th>\n",
              "      <td>33</td>\n",
              "      <td>entrepreneur</td>\n",
              "      <td>married</td>\n",
              "      <td>secondary</td>\n",
              "      <td>no</td>\n",
              "      <td>2</td>\n",
              "      <td>yes</td>\n",
              "      <td>yes</td>\n",
              "      <td>unknown</td>\n",
              "      <td>5</td>\n",
              "      <td>may</td>\n",
              "      <td>76</td>\n",
              "      <td>1</td>\n",
              "      <td>-1</td>\n",
              "      <td>0</td>\n",
              "      <td>unknown</td>\n",
              "      <td>no</td>\n",
              "    </tr>\n",
              "  </tbody>\n",
              "</table>\n",
              "</div>"
            ],
            "text/plain": [
              "   age           job  marital  education default  balance housing loan  \\\n",
              "0   58    management  married   tertiary      no     2143     yes   no   \n",
              "1   44    technician   single  secondary      no       29     yes   no   \n",
              "2   33  entrepreneur  married  secondary      no        2     yes  yes   \n",
              "\n",
              "   contact  day month  duration  campaign  pdays  previous poutcome   y  \n",
              "0  unknown    5   may       261         1     -1         0  unknown  no  \n",
              "1  unknown    5   may       151         1     -1         0  unknown  no  \n",
              "2  unknown    5   may        76         1     -1         0  unknown  no  "
            ]
          },
          "execution_count": 537,
          "metadata": {},
          "output_type": "execute_result"
        }
      ],
      "source": [
        "banca.head(3)"
      ]
    },
    {
      "cell_type": "code",
      "execution_count": null,
      "id": "39b03a15-7872-4f9d-8bba-bda4e08b75a1",
      "metadata": {
        "id": "39b03a15-7872-4f9d-8bba-bda4e08b75a1"
      },
      "outputs": [],
      "source": [
        "#se crea el objeto d para codificar las variables que son categóricas\n",
        "d=defaultdict(LabelEncoder)"
      ]
    },
    {
      "cell_type": "code",
      "execution_count": null,
      "id": "be117b04-b896-44d3-bcd7-6d8524233ffd",
      "metadata": {
        "id": "be117b04-b896-44d3-bcd7-6d8524233ffd",
        "outputId": "4848fda3-2272-40ba-c772-f68e60e835ab"
      },
      "outputs": [
        {
          "data": {
            "text/plain": [
              "Index(['job', 'marital', 'education', 'default', 'housing', 'loan', 'contact',\n",
              "       'month', 'poutcome', 'y'],\n",
              "      dtype='object')"
            ]
          },
          "execution_count": 205,
          "metadata": {},
          "output_type": "execute_result"
        }
      ],
      "source": [
        "#lista de las variables categóricas\n",
        "list_object=banca.columns.to_series().groupby(banca.dtypes).groups[np.dtype(\"object\")]\n",
        "list_object"
      ]
    },
    {
      "cell_type": "code",
      "execution_count": null,
      "id": "8a98b6f7-ffa9-4768-8c94-68f95e233d4f",
      "metadata": {
        "id": "8a98b6f7-ffa9-4768-8c94-68f95e233d4f"
      },
      "outputs": [],
      "source": [
        "# codificamos las variables categóricas\n",
        "df_banca = banca.apply(lambda x: d[x.name].fit_transform(x) if x.name in list_object else x)\n"
      ]
    },
    {
      "cell_type": "code",
      "execution_count": null,
      "id": "54ba9e99-95b5-4330-b7c5-5a9630286c2a",
      "metadata": {
        "id": "54ba9e99-95b5-4330-b7c5-5a9630286c2a",
        "outputId": "3042e321-caa9-4446-a28d-fcba305ddc11"
      },
      "outputs": [
        {
          "data": {
            "text/html": [
              "<div>\n",
              "<style scoped>\n",
              "    .dataframe tbody tr th:only-of-type {\n",
              "        vertical-align: middle;\n",
              "    }\n",
              "\n",
              "    .dataframe tbody tr th {\n",
              "        vertical-align: top;\n",
              "    }\n",
              "\n",
              "    .dataframe thead th {\n",
              "        text-align: right;\n",
              "    }\n",
              "</style>\n",
              "<table border=\"1\" class=\"dataframe\">\n",
              "  <thead>\n",
              "    <tr style=\"text-align: right;\">\n",
              "      <th></th>\n",
              "      <th>age</th>\n",
              "      <th>job</th>\n",
              "      <th>marital</th>\n",
              "      <th>education</th>\n",
              "      <th>default</th>\n",
              "      <th>balance</th>\n",
              "      <th>housing</th>\n",
              "      <th>loan</th>\n",
              "      <th>contact</th>\n",
              "      <th>day</th>\n",
              "      <th>month</th>\n",
              "      <th>duration</th>\n",
              "      <th>campaign</th>\n",
              "      <th>pdays</th>\n",
              "      <th>previous</th>\n",
              "      <th>poutcome</th>\n",
              "      <th>y</th>\n",
              "    </tr>\n",
              "  </thead>\n",
              "  <tbody>\n",
              "    <tr>\n",
              "      <th>0</th>\n",
              "      <td>58</td>\n",
              "      <td>4</td>\n",
              "      <td>1</td>\n",
              "      <td>2</td>\n",
              "      <td>0</td>\n",
              "      <td>2143</td>\n",
              "      <td>1</td>\n",
              "      <td>0</td>\n",
              "      <td>2</td>\n",
              "      <td>5</td>\n",
              "      <td>8</td>\n",
              "      <td>261</td>\n",
              "      <td>1</td>\n",
              "      <td>-1</td>\n",
              "      <td>0</td>\n",
              "      <td>3</td>\n",
              "      <td>0</td>\n",
              "    </tr>\n",
              "    <tr>\n",
              "      <th>1</th>\n",
              "      <td>44</td>\n",
              "      <td>9</td>\n",
              "      <td>2</td>\n",
              "      <td>1</td>\n",
              "      <td>0</td>\n",
              "      <td>29</td>\n",
              "      <td>1</td>\n",
              "      <td>0</td>\n",
              "      <td>2</td>\n",
              "      <td>5</td>\n",
              "      <td>8</td>\n",
              "      <td>151</td>\n",
              "      <td>1</td>\n",
              "      <td>-1</td>\n",
              "      <td>0</td>\n",
              "      <td>3</td>\n",
              "      <td>0</td>\n",
              "    </tr>\n",
              "    <tr>\n",
              "      <th>2</th>\n",
              "      <td>33</td>\n",
              "      <td>2</td>\n",
              "      <td>1</td>\n",
              "      <td>1</td>\n",
              "      <td>0</td>\n",
              "      <td>2</td>\n",
              "      <td>1</td>\n",
              "      <td>1</td>\n",
              "      <td>2</td>\n",
              "      <td>5</td>\n",
              "      <td>8</td>\n",
              "      <td>76</td>\n",
              "      <td>1</td>\n",
              "      <td>-1</td>\n",
              "      <td>0</td>\n",
              "      <td>3</td>\n",
              "      <td>0</td>\n",
              "    </tr>\n",
              "    <tr>\n",
              "      <th>3</th>\n",
              "      <td>47</td>\n",
              "      <td>1</td>\n",
              "      <td>1</td>\n",
              "      <td>3</td>\n",
              "      <td>0</td>\n",
              "      <td>1506</td>\n",
              "      <td>1</td>\n",
              "      <td>0</td>\n",
              "      <td>2</td>\n",
              "      <td>5</td>\n",
              "      <td>8</td>\n",
              "      <td>92</td>\n",
              "      <td>1</td>\n",
              "      <td>-1</td>\n",
              "      <td>0</td>\n",
              "      <td>3</td>\n",
              "      <td>0</td>\n",
              "    </tr>\n",
              "    <tr>\n",
              "      <th>4</th>\n",
              "      <td>33</td>\n",
              "      <td>11</td>\n",
              "      <td>2</td>\n",
              "      <td>3</td>\n",
              "      <td>0</td>\n",
              "      <td>1</td>\n",
              "      <td>0</td>\n",
              "      <td>0</td>\n",
              "      <td>2</td>\n",
              "      <td>5</td>\n",
              "      <td>8</td>\n",
              "      <td>198</td>\n",
              "      <td>1</td>\n",
              "      <td>-1</td>\n",
              "      <td>0</td>\n",
              "      <td>3</td>\n",
              "      <td>0</td>\n",
              "    </tr>\n",
              "  </tbody>\n",
              "</table>\n",
              "</div>"
            ],
            "text/plain": [
              "   age  job  marital  education  default  balance  housing  loan  contact  \\\n",
              "0   58    4        1          2        0     2143        1     0        2   \n",
              "1   44    9        2          1        0       29        1     0        2   \n",
              "2   33    2        1          1        0        2        1     1        2   \n",
              "3   47    1        1          3        0     1506        1     0        2   \n",
              "4   33   11        2          3        0        1        0     0        2   \n",
              "\n",
              "   day  month  duration  campaign  pdays  previous  poutcome  y  \n",
              "0    5      8       261         1     -1         0         3  0  \n",
              "1    5      8       151         1     -1         0         3  0  \n",
              "2    5      8        76         1     -1         0         3  0  \n",
              "3    5      8        92         1     -1         0         3  0  \n",
              "4    5      8       198         1     -1         0         3  0  "
            ]
          },
          "execution_count": 209,
          "metadata": {},
          "output_type": "execute_result"
        }
      ],
      "source": [
        "df_banca.head()"
      ]
    },
    {
      "cell_type": "markdown",
      "id": "79e5ea45-01e2-4224-95b1-b068ac8b21e2",
      "metadata": {
        "id": "79e5ea45-01e2-4224-95b1-b068ac8b21e2"
      },
      "source": [
        "*_Se observa(banca.head) variables que no están codificadas, para poder realizar el modelo,deben estar codificadas todas las variables cualitativas.Se procede a realizar la codificación de predictores cualitativos, para ello, importamos la función defaultdict y LabelEncoder_*\n",
        "\n",
        "*_El objeto list_objeto(objeto tipo lista) guarda las etiquetas de las variables que requieren ser codificadas._*\n",
        "\n",
        "*_Las funciones: fit(), para realizar el proceso de aprendizaje;fit_transform(),para realizar el proceso de aprendizaje y transformación; transform(),la transformación sobre lo ya aprendido._*\n",
        "\n"
      ]
    },
    {
      "cell_type": "markdown",
      "id": "bef154e4-d0ac-4645-a11c-e2f5649d9ed2",
      "metadata": {
        "id": "bef154e4-d0ac-4645-a11c-e2f5649d9ed2"
      },
      "source": [
        "### 6.2 _Distribución de la bariable objetivo y particionamiento de datos_"
      ]
    },
    {
      "cell_type": "markdown",
      "id": "51b9f845-52c8-4363-a29c-38b5a3c79fd7",
      "metadata": {
        "id": "51b9f845-52c8-4363-a29c-38b5a3c79fd7"
      },
      "source": [
        "**.** **_Identificar la distribución de la variable objetivo_**"
      ]
    },
    {
      "cell_type": "code",
      "execution_count": null,
      "id": "30319e08-d216-46ae-996e-e263224895c2",
      "metadata": {
        "id": "30319e08-d216-46ae-996e-e263224895c2",
        "outputId": "979d0f31-7b70-43a5-c499-589e0610075d"
      },
      "outputs": [
        {
          "data": {
            "text/plain": [
              "y\n",
              "no     88.3\n",
              "yes    11.7\n",
              "Name: count, dtype: float64"
            ]
          },
          "execution_count": 213,
          "metadata": {},
          "output_type": "execute_result"
        }
      ],
      "source": [
        "clases= round(pd.Series(banca.y).value_counts(sort=True)/len(banca)*100,1)\n",
        "clases"
      ]
    },
    {
      "cell_type": "code",
      "execution_count": null,
      "id": "57cea657-ce84-47c6-b033-f208f303c43f",
      "metadata": {
        "id": "57cea657-ce84-47c6-b033-f208f303c43f",
        "outputId": "836bef48-8cc2-4019-ddeb-7f6988c781f2"
      },
      "outputs": [
        {
          "data": {
            "text/plain": [
              "Text(0, 0.5, 'número de observaciones')"
            ]
          },
          "execution_count": 215,
          "metadata": {},
          "output_type": "execute_result"
        },
        {
          "data": {
            "image/png": "[encoded data removed]",
            "text/plain": [
              "<Figure size 640x480 with 1 Axes>"
            ]
          },
          "metadata": {},
          "output_type": "display_data"
        }
      ],
      "source": [
        "#Representacion de el numero de observaciones de cada clase que pertenecen a la variable predictora \"y\"\n",
        "import matplotlib.pyplot as plt #para visualizar como se distribuye la variable Y\n",
        "%matplotlib inline\n",
        "clases.plot(kind = 'bar', rot=0)\n",
        "plt.xticks(range(2))\n",
        "plt.title(\"Frecuencia de número de observaciones sin balancear\")\n",
        "plt.xlabel(\"ocurrencia de suscripcion\")\n",
        "plt.ylabel(\"número de observaciones\")"
      ]
    },
    {
      "cell_type": "markdown",
      "id": "20587d0c-52f5-4e5c-8fa0-2d3cd7db4996",
      "metadata": {
        "id": "20587d0c-52f5-4e5c-8fa0-2d3cd7db4996"
      },
      "source": [
        "*_La variable objetivo es la variable \"Y\" donde se avaluará si un cliente es buen pagador o mal pagador.Se observa en este caso,que los datos no están balanceados ya que los datos muestran que un 88,3% de los clientes no son malos pagadores y sólo un 11,7% de estos,son malos pagadores.Los datos no balanceados resultan ser un problema ya que el modelo funcionará mal para la clase minoritaria(yes).\n",
        "Por lo tanto, en este caso, es necesario realizar un balanceo_*\n",
        "\n",
        "*_El balanceo de datos se realiza(solo) sobre los datos de entrenamiento porque esto como tal es un problema para la elaboración del modelo,mas no para los datos de testeo,por lo tanto,los datos de testeo no se balancean.Por lo tanto,previo a realizar el balanceo de datos,se realizará el particionamiento de los datos en test y train con un 30% y 70% respectivamente.Seguidamente se realiza el balanceo de la variable predictora(\"y\") para los datos de entrenamiento_*\n",
        "\n",
        "\n"
      ]
    },
    {
      "cell_type": "markdown",
      "id": "62c72f1f-9e57-4b3d-9d36-ae95aad2ef63",
      "metadata": {
        "id": "62c72f1f-9e57-4b3d-9d36-ae95aad2ef63"
      },
      "source": [
        "**.** **_Particionando los Datos de Entrenamiento_**\n",
        "\n",
        "*_En este apartado crearemos los dataset de Train y Test para poder realizar posteriormente la predicción necesaria. Vamos a trabajar con un TrainSet de un 70% del actual y un 30% para realizar el testing._*"
      ]
    },
    {
      "cell_type": "code",
      "execution_count": null,
      "id": "2a8755fe-3399-4a03-8d6a-a245d8c93847",
      "metadata": {
        "id": "2a8755fe-3399-4a03-8d6a-a245d8c93847"
      },
      "outputs": [],
      "source": [
        "from sklearn.model_selection import train_test_split"
      ]
    },
    {
      "cell_type": "code",
      "execution_count": null,
      "id": "3093bc2c-e43f-44af-a52e-76bd0315f880",
      "metadata": {
        "id": "3093bc2c-e43f-44af-a52e-76bd0315f880"
      },
      "outputs": [],
      "source": [
        "x = df_banca.iloc[:,0:16].values # Guarda la matriz de los valores de los predictores\n",
        "y = df_banca.iloc[:,16].values  # Guarda los valores de la taget o variable objetivo"
      ]
    },
    {
      "cell_type": "code",
      "execution_count": null,
      "id": "2c60d393-c54c-4875-986b-7929c5e3c056",
      "metadata": {
        "id": "2c60d393-c54c-4875-986b-7929c5e3c056"
      },
      "outputs": [],
      "source": [
        "x_train, x_test, y_train, y_test = train_test_split(x, # Matriz de valores de los predictores\n",
        "                                                   y, # Los valores del target o variable objetivo\n",
        "                                                   test_size=0.3, # 30% de los datos para testeo\n",
        "                                                   random_state=2024, # Valor de la semilla, para que la aleatoriedad no afecte a que tengamos diferentes muestras.\n",
        "                                                   stratify=y) # toma los valores de Y"
      ]
    },
    {
      "cell_type": "markdown",
      "id": "90786b5d-c055-40af-8d3c-384b85cef38c",
      "metadata": {
        "id": "90786b5d-c055-40af-8d3c-384b85cef38c"
      },
      "source": []
    },
    {
      "cell_type": "markdown",
      "id": "36a5edc2-d2f7-4088-ab35-1ba514ac6335",
      "metadata": {
        "id": "36a5edc2-d2f7-4088-ab35-1ba514ac6335"
      },
      "source": [
        "### 6.3 **_Balanceo de datos_**"
      ]
    },
    {
      "cell_type": "markdown",
      "id": "894e4a5d-d240-42c1-8d60-7f1fbaa0a633",
      "metadata": {
        "id": "894e4a5d-d240-42c1-8d60-7f1fbaa0a633"
      },
      "source": [
        "*_Balanceamos los datos de entrenamiento usando las técnicas: OverSampling, UnderSampling, Smote Tomer y luego realizamos la comparación de modelos generados con las diferentes formas de balanceo:\n",
        "**a)** UnderSampling, desarrollo un modelo y calculo su AIC de ese modelo;\n",
        "**b)** OverSampling, desarrollo un modelo y calculo su AIC de ese modelo y\n",
        "**c)** SmoteTomek, desarrollo un modelo y calculo su AIC de ese modelo._*\n",
        "\n",
        "*_Criterio akaike, consiste en la comparación de AIC de los diferentes modelos. El que presente el menor valor de AIC, será la forma de balanceo óptima para nuestros datos_*\n"
      ]
    },
    {
      "cell_type": "code",
      "execution_count": null,
      "id": "f83996fd-6f10-4bac-8696-cfa3c2e9f1fe",
      "metadata": {
        "id": "f83996fd-6f10-4bac-8696-cfa3c2e9f1fe",
        "outputId": "0d0d063e-0adb-4bce-93c8-61c65538a873"
      },
      "outputs": [
        {
          "data": {
            "text/plain": [
              "0    27945\n",
              "1     3702\n",
              "Name: count, dtype: int64"
            ]
          },
          "execution_count": 229,
          "metadata": {},
          "output_type": "execute_result"
        }
      ],
      "source": [
        "pd.Series(y_train).value_counts(sort=True)"
      ]
    },
    {
      "cell_type": "markdown",
      "id": "6a9b593b-1e5b-475c-a63e-80428b6a25d8",
      "metadata": {
        "id": "6a9b593b-1e5b-475c-a63e-80428b6a25d8"
      },
      "source": [
        "**_a) Balanceo UnderSampling_**"
      ]
    },
    {
      "cell_type": "code",
      "execution_count": null,
      "id": "afe51f99-7719-4ca4-8276-8ff3debd6471",
      "metadata": {
        "id": "afe51f99-7719-4ca4-8276-8ff3debd6471"
      },
      "outputs": [],
      "source": [
        "# yes=3702....0.8\n",
        "# no=x...... (0.7+0.3).......> x=4.627...\n",
        "# x=6, cada 6 vecinos, n_neighbors=6\n",
        "#UnderSampling\n",
        "under=NearMiss(sampling_strategy=0.8,\n",
        "              n_neighbors=6,# cada 6 vecinos va a tomar una muestra; el patron de vecindad busca, dispersión en la selección de observaciones de la clase mayoritaria\n",
        "              version=2)"
      ]
    },
    {
      "cell_type": "code",
      "execution_count": null,
      "id": "a39ff02f-417b-4bb1-bfee-dcc091b0c5c2",
      "metadata": {
        "id": "a39ff02f-417b-4bb1-bfee-dcc091b0c5c2"
      },
      "outputs": [],
      "source": [
        "x_train_under, y_train_under = under.fit_resample(x_train,y_train)"
      ]
    },
    {
      "cell_type": "code",
      "execution_count": null,
      "id": "dfe255bf-3a0e-4df9-8c37-e03e3528c236",
      "metadata": {
        "id": "dfe255bf-3a0e-4df9-8c37-e03e3528c236",
        "outputId": "3aa543cc-4c11-4137-b17a-74515775f632"
      },
      "outputs": [
        {
          "data": {
            "text/plain": [
              "0    4627\n",
              "1    3702\n",
              "Name: count, dtype: int64"
            ]
          },
          "execution_count": 235,
          "metadata": {},
          "output_type": "execute_result"
        }
      ],
      "source": [
        "clases_a = pd.Series(y_train_under).value_counts(sort=True)\n",
        "clases_a"
      ]
    },
    {
      "cell_type": "code",
      "execution_count": null,
      "id": "76d44c94-bbef-48fa-8e4c-cd78c04c8e36",
      "metadata": {
        "id": "76d44c94-bbef-48fa-8e4c-cd78c04c8e36",
        "outputId": "2fec14ab-55df-467a-bbcf-aada15116370"
      },
      "outputs": [
        {
          "data": {
            "image/png": "[encoded data removed]",
            "text/plain": [
              "<Figure size 640x480 with 1 Axes>"
            ]
          },
          "metadata": {},
          "output_type": "display_data"
        }
      ],
      "source": [
        "#Visualizando\n",
        "clases_a.plot(kind='bar',rot=0)\n",
        "plt.title('Datos Balanceados por UnderSampling ')\n",
        "plt.show()"
      ]
    },
    {
      "cell_type": "markdown",
      "id": "29e4b956-bebd-46ce-b947-4f0fe10035af",
      "metadata": {
        "id": "29e4b956-bebd-46ce-b947-4f0fe10035af"
      },
      "source": [
        "**_b) Balanceo por OverSampling_** *_:genera replicas de la clase minoritaria_*"
      ]
    },
    {
      "cell_type": "code",
      "execution_count": null,
      "id": "980dc852-19a5-47ce-835a-9b08012715e1",
      "metadata": {
        "id": "980dc852-19a5-47ce-835a-9b08012715e1"
      },
      "outputs": [],
      "source": [
        "over=RandomOverSampler(sampling_strategy=0.8,\n",
        "                       random_state=0)"
      ]
    },
    {
      "cell_type": "code",
      "execution_count": null,
      "id": "bc14a934-c688-4d75-b9f3-df3ed570661c",
      "metadata": {
        "id": "bc14a934-c688-4d75-b9f3-df3ed570661c"
      },
      "outputs": [],
      "source": [
        "x_train_over, y_train_over=over.fit_resample(x_train,y_train)"
      ]
    },
    {
      "cell_type": "code",
      "execution_count": null,
      "id": "62df5037-fd87-47b7-9b3d-bf69d7852ab6",
      "metadata": {
        "id": "62df5037-fd87-47b7-9b3d-bf69d7852ab6",
        "outputId": "419ac502-63cf-48c0-c52f-12c5bae86079"
      },
      "outputs": [
        {
          "data": {
            "text/plain": [
              "0    27945\n",
              "1    22356\n",
              "Name: count, dtype: int64"
            ]
          },
          "execution_count": 243,
          "metadata": {},
          "output_type": "execute_result"
        }
      ],
      "source": [
        "clases_b = pd.Series(y_train_over).value_counts(sort=True)\n",
        "clases_b"
      ]
    },
    {
      "cell_type": "code",
      "execution_count": null,
      "id": "5603f8d5-def1-4916-8e4e-a31c725a1063",
      "metadata": {
        "id": "5603f8d5-def1-4916-8e4e-a31c725a1063",
        "outputId": "f7100c80-82ea-465a-efc3-7f04ea2514c1"
      },
      "outputs": [
        {
          "data": {
            "image/png": "[encoded data removed]",
            "text/plain": [
              "<Figure size 640x480 with 1 Axes>"
            ]
          },
          "metadata": {},
          "output_type": "display_data"
        }
      ],
      "source": [
        "#Visualizando\n",
        "clases_b.plot(kind='bar',rot=0)\n",
        "plt.title('Datos Balanceados por OverSampling ')\n",
        "plt.show()"
      ]
    },
    {
      "cell_type": "markdown",
      "id": "60bb7c79-bca3-42cc-b8c1-1cd8e54322e4",
      "metadata": {
        "id": "60bb7c79-bca3-42cc-b8c1-1cd8e54322e4"
      },
      "source": [
        "**_c) Balanceo por Smote Tomek_** *_:aplica de manera simultanea Oversampling y UnderSampling_*"
      ]
    },
    {
      "cell_type": "code",
      "execution_count": null,
      "id": "39b88a91-ffc4-46b4-b9c7-e7c0ffe24e77",
      "metadata": {
        "id": "39b88a91-ffc4-46b4-b9c7-e7c0ffe24e77"
      },
      "outputs": [],
      "source": [
        "# Instanciamos SMOTETomek con el valor adecuado\n",
        "st = SMOTETomek(sampling_strategy=0.8)  # 0.8 indica la relación entre la clase minoritaria y mayoritaria"
      ]
    },
    {
      "cell_type": "code",
      "execution_count": null,
      "id": "67bb80b0-9005-4e84-af93-52f6bdb9e445",
      "metadata": {
        "id": "67bb80b0-9005-4e84-af93-52f6bdb9e445"
      },
      "outputs": [],
      "source": [
        "# Balanceamos los datos\n",
        "x_train_st, y_train_st = st.fit_resample(x_train, y_train)"
      ]
    },
    {
      "cell_type": "code",
      "execution_count": null,
      "id": "9f939b1f-de62-4a1a-a8a2-b7edaaaddf46",
      "metadata": {
        "id": "9f939b1f-de62-4a1a-a8a2-b7edaaaddf46",
        "outputId": "d47fa389-c325-405b-d6d9-2a5d2de05617"
      },
      "outputs": [
        {
          "data": {
            "text/plain": [
              "0    27305\n",
              "1    21716\n",
              "Name: count, dtype: int64"
            ]
          },
          "execution_count": 251,
          "metadata": {},
          "output_type": "execute_result"
        }
      ],
      "source": [
        "clases_c = pd.Series(y_train_st).value_counts(sort=True)\n",
        "clases_c"
      ]
    },
    {
      "cell_type": "code",
      "execution_count": null,
      "id": "a0415f1b-272a-4e94-bc77-cd08aa6bdbf4",
      "metadata": {
        "scrolled": true,
        "id": "a0415f1b-272a-4e94-bc77-cd08aa6bdbf4",
        "outputId": "2ada87e1-56a7-4e6f-b54a-5baa4e815d79"
      },
      "outputs": [
        {
          "data": {
            "image/png": "[encoded data removed]",
            "text/plain": [
              "<Figure size 640x480 with 1 Axes>"
            ]
          },
          "metadata": {},
          "output_type": "display_data"
        }
      ],
      "source": [
        "#Visualizando\n",
        "clases_c.plot(kind='bar',rot=0)\n",
        "plt.title('Datos Balanceados por SMOTETomek ')\n",
        "plt.show()"
      ]
    },
    {
      "cell_type": "code",
      "execution_count": null,
      "id": "6bd24fd5-01a1-4ccb-a22f-e55f275bcae0",
      "metadata": {
        "id": "6bd24fd5-01a1-4ccb-a22f-e55f275bcae0"
      },
      "outputs": [],
      "source": []
    },
    {
      "cell_type": "markdown",
      "id": "b1b390c3-818b-402a-8c99-5a86d15d777d",
      "metadata": {
        "id": "b1b390c3-818b-402a-8c99-5a86d15d777d"
      },
      "source": [
        "**_Creamos los modelos para elegir la técnica correcta de balanceo_**"
      ]
    },
    {
      "cell_type": "code",
      "execution_count": null,
      "id": "9f328c19-9cf8-4a3c-b057-3e215cf55b01",
      "metadata": {
        "id": "9f328c19-9cf8-4a3c-b057-3e215cf55b01"
      },
      "outputs": [],
      "source": [
        "import statsmodels.api as sm"
      ]
    },
    {
      "cell_type": "markdown",
      "id": "91eb5390-1260-4bb0-95d4-dc98dfa06ae8",
      "metadata": {
        "id": "91eb5390-1260-4bb0-95d4-dc98dfa06ae8"
      },
      "source": [
        "**_a) Modelo con los datos sin balancear_**"
      ]
    },
    {
      "cell_type": "code",
      "execution_count": null,
      "id": "e019c876-6fd4-458e-a233-45382bfeb393",
      "metadata": {
        "id": "e019c876-6fd4-458e-a233-45382bfeb393",
        "outputId": "8c964fc7-1455-4719-feef-c86b3377dc22"
      },
      "outputs": [
        {
          "name": "stdout",
          "output_type": "stream",
          "text": [
            "Optimization terminated successfully.\n",
            "         Current function value: 0.273930\n",
            "         Iterations 8\n",
            "                         Results: Logit\n",
            "=================================================================\n",
            "Model:              Logit            Method:           MLE       \n",
            "Dependent Variable: y                Pseudo R-squared: 0.241     \n",
            "Date:               2025-01-03 14:15 AIC:              17370.1231\n",
            "No. Observations:   31647            BIC:              17503.9215\n",
            "Df Model:           15               Log-Likelihood:   -8669.1   \n",
            "Df Residuals:       31631            LL-Null:          -11420.   \n",
            "Converged:          1.0000           LLR p-value:      0.0000    \n",
            "No. Iterations:     8.0000           Scale:            1.0000    \n",
            "-------------------------------------------------------------------\n",
            "          Coef.    Std.Err.      z       P>|z|     [0.025    0.975]\n",
            "-------------------------------------------------------------------\n",
            "x1       -0.0225     0.0015   -14.6643   0.0000   -0.0255   -0.0195\n",
            "x2       -0.0175     0.0062    -2.8173   0.0048   -0.0296   -0.0053\n",
            "x3       -0.1847     0.0313    -5.9013   0.0000   -0.2461   -0.1234\n",
            "x4        0.0100     0.0267     0.3737   0.7086   -0.0424    0.0624\n",
            "x5       -0.3925     0.1924    -2.0397   0.0414   -0.7696   -0.0153\n",
            "x6        0.0000     0.0000     5.1726   0.0000    0.0000    0.0000\n",
            "x7       -1.2831     0.0439   -29.1980   0.0000   -1.3692   -1.1970\n",
            "x8       -0.8784     0.0687   -12.7816   0.0000   -1.0131   -0.7437\n",
            "x9       -0.6217     0.0322   -19.3083   0.0000   -0.6848   -0.5586\n",
            "x10      -0.0145     0.0024    -6.1109   0.0000   -0.0192   -0.0099\n",
            "x11       0.0082     0.0063     1.2840   0.1992   -0.0043    0.0206\n",
            "x12       0.0039     0.0001    53.5060   0.0000    0.0037    0.0040\n",
            "x13      -0.1669     0.0126   -13.2228   0.0000   -0.1917   -0.1422\n",
            "x14      -0.0001     0.0003    -0.2030   0.8391   -0.0006    0.0005\n",
            "x15       0.0546     0.0101     5.4322   0.0000    0.0349    0.0743\n",
            "x16      -0.2564     0.0263    -9.7345   0.0000   -0.3080   -0.2048\n",
            "=================================================================\n",
            "\n"
          ]
        }
      ],
      "source": [
        "x1_train = sm.add_constant(x_train)# Agregar un intercepto a los datos si es necesario (esto se hace con sm.add_constant)\n",
        "\n",
        "# Ajuste del  modelo\n",
        "model1 = sm.Logit(y_train, x_train)  # Variables endógena y exógena\n",
        "resultado = model1.fit()\n",
        "\n",
        "# Ver los resultados del modelo\n",
        "print(resultado.summary2())"
      ]
    },
    {
      "cell_type": "markdown",
      "id": "aab48fb1-d92c-468d-af10-8106726432c2",
      "metadata": {
        "id": "aab48fb1-d92c-468d-af10-8106726432c2"
      },
      "source": [
        "**_b) Modelo con los datos balanceados por UnderSampling_**"
      ]
    },
    {
      "cell_type": "code",
      "execution_count": null,
      "id": "f53ac3c1-1a48-48a3-aa6c-6e0b719c6849",
      "metadata": {
        "id": "f53ac3c1-1a48-48a3-aa6c-6e0b719c6849",
        "outputId": "640e0170-3b1e-4178-fb62-b2d04a7d3cb1"
      },
      "outputs": [
        {
          "name": "stdout",
          "output_type": "stream",
          "text": [
            "Optimization terminated successfully.\n",
            "         Current function value: 0.407689\n",
            "         Iterations 7\n",
            "                         Results: Logit\n",
            "================================================================\n",
            "Model:              Logit            Method:           MLE      \n",
            "Dependent Variable: y                Pseudo R-squared: 0.407    \n",
            "Date:               2025-01-03 14:15 AIC:              6825.2793\n",
            "No. Observations:   8329             BIC:              6944.7468\n",
            "Df Model:           16               Log-Likelihood:   -3395.6  \n",
            "Df Residuals:       8312             LL-Null:          -5721.8  \n",
            "Converged:          1.0000           LLR p-value:      0.0000   \n",
            "No. Iterations:     7.0000           Scale:            1.0000   \n",
            "------------------------------------------------------------------\n",
            "         Coef.    Std.Err.      z       P>|z|     [0.025    0.975]\n",
            "------------------------------------------------------------------\n",
            "const   -1.1063     0.2544    -4.3491   0.0000   -1.6049   -0.6078\n",
            "x1       0.0044     0.0028     1.5471   0.1218   -0.0012    0.0099\n",
            "x2       0.0164     0.0098     1.6781   0.0933   -0.0027    0.0355\n",
            "x3       0.1935     0.0562     3.4396   0.0006    0.0832    0.3037\n",
            "x4       0.1603     0.0413     3.8863   0.0001    0.0795    0.2412\n",
            "x5       1.3121     0.6280     2.0895   0.0367    0.0813    2.5429\n",
            "x6      -0.0004     0.0000   -28.7633   0.0000   -0.0004   -0.0004\n",
            "x7      -0.9621     0.0663   -14.5000   0.0000   -1.0921   -0.8320\n",
            "x8      -0.4522     0.1081    -4.1815   0.0000   -0.6641   -0.2402\n",
            "x9      -0.6281     0.0461   -13.6240   0.0000   -0.7185   -0.5378\n",
            "x10     -0.0063     0.0037    -1.7066   0.0879   -0.0135    0.0009\n",
            "x11      0.0211     0.0094     2.2576   0.0240    0.0028    0.0395\n",
            "x12      0.0043     0.0001    32.0986   0.0000    0.0040    0.0046\n",
            "x13     -0.1093     0.0158    -6.9182   0.0000   -0.1402   -0.0783\n",
            "x14      0.0041     0.0005     8.0405   0.0000    0.0031    0.0051\n",
            "x15      0.1007     0.0171     5.8839   0.0000    0.0672    0.1343\n",
            "x16      0.2332     0.0502     4.6415   0.0000    0.1347    0.3317\n",
            "================================================================\n",
            "\n"
          ]
        }
      ],
      "source": [
        "x1_train_under=sm.add_constant(x_train_under)\n",
        "# Ajuste del  modelo\n",
        "model2 = sm.Logit(y_train_under, x1_train_under)  # Variables endógena y exógena\n",
        "resultado2 = model2.fit()\n",
        "\n",
        "# Ver los resultados del modelo\n",
        "print(resultado2.summary2())"
      ]
    },
    {
      "cell_type": "markdown",
      "id": "ebeb4ab0-a98f-4fc6-8acd-d453bd224d64",
      "metadata": {
        "id": "ebeb4ab0-a98f-4fc6-8acd-d453bd224d64"
      },
      "source": [
        "**_c) Modelo con los datos balanceados por Over Sampling_**"
      ]
    },
    {
      "cell_type": "code",
      "execution_count": null,
      "id": "7994de2f-4d0b-44a8-a9e2-ee9605d3a9d3",
      "metadata": {
        "id": "7994de2f-4d0b-44a8-a9e2-ee9605d3a9d3",
        "outputId": "cba207fa-c606-4633-f1c2-0d109e2573ae"
      },
      "outputs": [
        {
          "name": "stdout",
          "output_type": "stream",
          "text": [
            "Optimization terminated successfully.\n",
            "         Current function value: 0.451896\n",
            "         Iterations 7\n",
            "                         Results: Logit\n",
            "=================================================================\n",
            "Model:              Logit            Method:           MLE       \n",
            "Dependent Variable: y                Pseudo R-squared: 0.342     \n",
            "Date:               2025-01-03 14:15 AIC:              45495.6342\n",
            "No. Observations:   50301            BIC:              45645.6725\n",
            "Df Model:           16               Log-Likelihood:   -22731.   \n",
            "Df Residuals:       50284            LL-Null:          -34555.   \n",
            "Converged:          1.0000           LLR p-value:      0.0000    \n",
            "No. Iterations:     7.0000           Scale:            1.0000    \n",
            "-------------------------------------------------------------------\n",
            "          Coef.    Std.Err.      z       P>|z|     [0.025    0.975]\n",
            "-------------------------------------------------------------------\n",
            "const    -2.6504     0.0993   -26.6789   0.0000   -2.8451   -2.4557\n",
            "x1        0.0100     0.0011     9.0129   0.0000    0.0078    0.0122\n",
            "x2        0.0048     0.0037     1.3089   0.1906   -0.0024    0.0120\n",
            "x3        0.2552     0.0212    12.0632   0.0000    0.2137    0.2966\n",
            "x4        0.2336     0.0162    14.3956   0.0000    0.2018    0.2654\n",
            "x5       -0.5645     0.1082    -5.2186   0.0000   -0.7764   -0.3525\n",
            "x6        0.0000     0.0000     8.0832   0.0000    0.0000    0.0000\n",
            "x7       -1.1505     0.0258   -44.6144   0.0000   -1.2011   -1.1000\n",
            "x8       -0.7583     0.0378   -20.0488   0.0000   -0.8325   -0.6842\n",
            "x9       -0.7178     0.0180   -39.9120   0.0000   -0.7530   -0.6825\n",
            "x10      -0.0044     0.0014    -3.1408   0.0017   -0.0071   -0.0016\n",
            "x11       0.0389     0.0037    10.3904   0.0000    0.0315    0.0462\n",
            "x12       0.0053     0.0001    93.6513   0.0000    0.0052    0.0054\n",
            "x13      -0.1411     0.0062   -22.7280   0.0000   -0.1533   -0.1289\n",
            "x14       0.0030     0.0002    16.3228   0.0000    0.0026    0.0033\n",
            "x15       0.1400     0.0075    18.5801   0.0000    0.1252    0.1547\n",
            "x16       0.1579     0.0200     7.8808   0.0000    0.1186    0.1972\n",
            "=================================================================\n",
            "\n"
          ]
        }
      ],
      "source": [
        "x1_train_over=sm.add_constant(x_train_over)\n",
        "# Ajuste del  modelo\n",
        "model3 = sm.Logit(y_train_over, x1_train_over)  # Variables endógena y exógena\n",
        "resultado3 = model3.fit()\n",
        "\n",
        "# Ver los resultados del modelo\n",
        "print(resultado3.summary2())\n"
      ]
    },
    {
      "cell_type": "markdown",
      "id": "803d7dc8-ca94-4f23-84a5-ce825b952992",
      "metadata": {
        "id": "803d7dc8-ca94-4f23-84a5-ce825b952992"
      },
      "source": [
        "**_d) Modelo con los datos balanceados por Smote Tomek_**"
      ]
    },
    {
      "cell_type": "code",
      "execution_count": null,
      "id": "95a07c1e-fa08-4891-8626-2627b24d3e09",
      "metadata": {
        "id": "95a07c1e-fa08-4891-8626-2627b24d3e09",
        "outputId": "7dd9f0e2-661e-48e5-ec1e-f657f9cf1d75"
      },
      "outputs": [
        {
          "name": "stdout",
          "output_type": "stream",
          "text": [
            "Optimization terminated successfully.\n",
            "         Current function value: 0.360057\n",
            "         Iterations 7\n",
            "                         Results: Logit\n",
            "=================================================================\n",
            "Model:              Logit            Method:           MLE       \n",
            "Dependent Variable: y                Pseudo R-squared: 0.476     \n",
            "Date:               2025-01-03 14:15 AIC:              35334.7207\n",
            "No. Observations:   49021            BIC:              35484.3207\n",
            "Df Model:           16               Log-Likelihood:   -17650.   \n",
            "Df Residuals:       49004            LL-Null:          -33659.   \n",
            "Converged:          1.0000           LLR p-value:      0.0000    \n",
            "No. Iterations:     7.0000           Scale:            1.0000    \n",
            "-------------------------------------------------------------------\n",
            "          Coef.    Std.Err.      z       P>|z|     [0.025    0.975]\n",
            "-------------------------------------------------------------------\n",
            "const     1.5444     0.1102    14.0140   0.0000    1.3284    1.7603\n",
            "x1       -0.0219     0.0013   -16.6715   0.0000   -0.0244   -0.0193\n",
            "x2       -0.0302     0.0045    -6.6370   0.0000   -0.0391   -0.0213\n",
            "x3       -0.4960     0.0245   -20.2640   0.0000   -0.5440   -0.4481\n",
            "x4       -0.2509     0.0199   -12.5866   0.0000   -0.2900   -0.2118\n",
            "x5       -1.2662     0.1733    -7.3060   0.0000   -1.6059   -0.9265\n",
            "x6        0.0000     0.0000     9.0875   0.0000    0.0000    0.0000\n",
            "x7       -2.3236     0.0335   -69.3044   0.0000   -2.3893   -2.2579\n",
            "x8       -2.1686     0.0632   -34.3068   0.0000   -2.2924   -2.0447\n",
            "x9       -1.1320     0.0255   -44.3686   0.0000   -1.1820   -1.0820\n",
            "x10      -0.0105     0.0017    -6.1410   0.0000   -0.0139   -0.0072\n",
            "x11       0.0318     0.0045     7.0116   0.0000    0.0229    0.0406\n",
            "x12       0.0058     0.0001    85.7509   0.0000    0.0056    0.0059\n",
            "x13      -0.2737     0.0089   -30.8703   0.0000   -0.2910   -0.2563\n",
            "x14       0.0018     0.0002     8.6229   0.0000    0.0014    0.0023\n",
            "x15       0.0910     0.0085    10.7060   0.0000    0.0744    0.1077\n",
            "x16      -0.0692     0.0227    -3.0478   0.0023   -0.1136   -0.0247\n",
            "=================================================================\n",
            "\n"
          ]
        }
      ],
      "source": [
        "x1_train_st=sm.add_constant(x_train_st)\n",
        "# Ajuste del  modelo\n",
        "model4 = sm.Logit(y_train_st, x1_train_st)  # Variables endógena y exógena\n",
        "resultado4 = model4.fit()\n",
        "\n",
        "# Ver los resultados del modelo\n",
        "print(resultado4.summary2())\n",
        "\n"
      ]
    },
    {
      "cell_type": "markdown",
      "id": "a497ec3a-50fd-4c70-8d8f-a24f35c9778b",
      "metadata": {
        "id": "a497ec3a-50fd-4c70-8d8f-a24f35c9778b"
      },
      "source": [
        "**.** *_Data sin balancear, model1: **AIC**=17370.1231_*\n",
        "\n",
        "**.** *_Data balanceada por Under Sampling, model2: **AIC**=6825.2793_*\n",
        "\n",
        "**.** *_Data balanceada por Over Sampling, model3: **AIC**=45495.6342_*\n",
        "\n",
        "**.** *_Data balanceada por Smote Tomer, model4: **AIC**= 35791.2629_*\n",
        "\n",
        "**.** **Conclusión:** *_Data balanceada por Under Sampling es la forma óptica de balanceo para este caso, tiene el menor AIC, apartir de ahora se debe trabajar con los datos y_train_under, x_train_under._*"
      ]
    },
    {
      "cell_type": "markdown",
      "id": "399207b0-7c1f-44ba-b71b-870ab5cd86c7",
      "metadata": {
        "id": "399207b0-7c1f-44ba-b71b-870ab5cd86c7"
      },
      "source": [
        "### 6.4 **_Discretización de datos_**"
      ]
    },
    {
      "cell_type": "markdown",
      "id": "a0c206ea-3bdc-48a9-897b-6fc7c75f845a",
      "metadata": {
        "id": "a0c206ea-3bdc-48a9-897b-6fc7c75f845a"
      },
      "source": [
        "*_Los datos de las variables predictoras deben estar discretizados para poder ingresar al modelo Naive Bayes. Antes de discretizar, se combierte los datos en data frame_*"
      ]
    },
    {
      "cell_type": "code",
      "execution_count": null,
      "id": "844cdbdb-90fe-4639-b6a7-7d74200ddf1a",
      "metadata": {
        "id": "844cdbdb-90fe-4639-b6a7-7d74200ddf1a",
        "outputId": "3f80f56e-3504-4af7-db6a-8e42bd72cde6"
      },
      "outputs": [
        {
          "name": "stdout",
          "output_type": "stream",
          "text": [
            "['age', 'job', 'marital', 'education', 'default', 'balance', 'housing', 'loan', 'contact', 'day', 'month', 'duration', 'campaign', 'pdays', 'previous', 'poutcome', 'y']\n"
          ]
        }
      ],
      "source": [
        "#Convirtiendo el DF de entrenamiento con datos balanceados\n",
        "columnas=df_banca.columns.to_list()\n",
        "print(columnas)"
      ]
    },
    {
      "cell_type": "code",
      "execution_count": null,
      "id": "64b415d3-6007-4552-b33d-82585f9cd4be",
      "metadata": {
        "id": "64b415d3-6007-4552-b33d-82585f9cd4be",
        "outputId": "09b5ddd0-3a67-4682-dbf4-0d73829a9023"
      },
      "outputs": [
        {
          "name": "stdout",
          "output_type": "stream",
          "text": [
            "['age', 'job', 'marital', 'education', 'default', 'balance', 'housing', 'loan', 'contact', 'day', 'month', 'duration', 'campaign', 'pdays', 'previous', 'poutcome']\n",
            "y\n"
          ]
        }
      ],
      "source": [
        "#Establecer nuestras etiquetas de predictores y target\n",
        "predictores=columnas[0:16]\n",
        "y=columnas[16]\n",
        "print(predictores)\n",
        "print(y)"
      ]
    },
    {
      "cell_type": "code",
      "execution_count": null,
      "id": "1bbec525-8d25-4f27-b36a-39f55f63ebf1",
      "metadata": {
        "id": "1bbec525-8d25-4f27-b36a-39f55f63ebf1",
        "outputId": "7390f873-2117-4c9c-8325-9cce930a969f"
      },
      "outputs": [
        {
          "data": {
            "text/html": [
              "<div>\n",
              "<style scoped>\n",
              "    .dataframe tbody tr th:only-of-type {\n",
              "        vertical-align: middle;\n",
              "    }\n",
              "\n",
              "    .dataframe tbody tr th {\n",
              "        vertical-align: top;\n",
              "    }\n",
              "\n",
              "    .dataframe thead th {\n",
              "        text-align: right;\n",
              "    }\n",
              "</style>\n",
              "<table border=\"1\" class=\"dataframe\">\n",
              "  <thead>\n",
              "    <tr style=\"text-align: right;\">\n",
              "      <th></th>\n",
              "      <th>age</th>\n",
              "      <th>job</th>\n",
              "      <th>marital</th>\n",
              "      <th>education</th>\n",
              "      <th>default</th>\n",
              "      <th>balance</th>\n",
              "      <th>housing</th>\n",
              "      <th>loan</th>\n",
              "      <th>contact</th>\n",
              "      <th>day</th>\n",
              "      <th>month</th>\n",
              "      <th>duration</th>\n",
              "      <th>campaign</th>\n",
              "      <th>pdays</th>\n",
              "      <th>previous</th>\n",
              "      <th>poutcome</th>\n",
              "      <th>y</th>\n",
              "    </tr>\n",
              "  </thead>\n",
              "  <tbody>\n",
              "    <tr>\n",
              "      <th>0</th>\n",
              "      <td>43</td>\n",
              "      <td>0</td>\n",
              "      <td>1</td>\n",
              "      <td>1</td>\n",
              "      <td>0</td>\n",
              "      <td>25741</td>\n",
              "      <td>1</td>\n",
              "      <td>0</td>\n",
              "      <td>2</td>\n",
              "      <td>30</td>\n",
              "      <td>8</td>\n",
              "      <td>464</td>\n",
              "      <td>2</td>\n",
              "      <td>-1</td>\n",
              "      <td>0</td>\n",
              "      <td>3</td>\n",
              "      <td>0</td>\n",
              "    </tr>\n",
              "    <tr>\n",
              "      <th>1</th>\n",
              "      <td>51</td>\n",
              "      <td>4</td>\n",
              "      <td>1</td>\n",
              "      <td>2</td>\n",
              "      <td>0</td>\n",
              "      <td>25856</td>\n",
              "      <td>0</td>\n",
              "      <td>0</td>\n",
              "      <td>0</td>\n",
              "      <td>14</td>\n",
              "      <td>1</td>\n",
              "      <td>129</td>\n",
              "      <td>2</td>\n",
              "      <td>-1</td>\n",
              "      <td>0</td>\n",
              "      <td>3</td>\n",
              "      <td>0</td>\n",
              "    </tr>\n",
              "    <tr>\n",
              "      <th>2</th>\n",
              "      <td>59</td>\n",
              "      <td>5</td>\n",
              "      <td>1</td>\n",
              "      <td>1</td>\n",
              "      <td>0</td>\n",
              "      <td>25947</td>\n",
              "      <td>0</td>\n",
              "      <td>0</td>\n",
              "      <td>0</td>\n",
              "      <td>13</td>\n",
              "      <td>1</td>\n",
              "      <td>292</td>\n",
              "      <td>2</td>\n",
              "      <td>-1</td>\n",
              "      <td>0</td>\n",
              "      <td>3</td>\n",
              "      <td>0</td>\n",
              "    </tr>\n",
              "  </tbody>\n",
              "</table>\n",
              "</div>"
            ],
            "text/plain": [
              "   age  job  marital  education  default  balance  housing  loan  contact  \\\n",
              "0   43    0        1          1        0    25741        1     0        2   \n",
              "1   51    4        1          2        0    25856        0     0        0   \n",
              "2   59    5        1          1        0    25947        0     0        0   \n",
              "\n",
              "   day  month  duration  campaign  pdays  previous  poutcome  y  \n",
              "0   30      8       464         2     -1         0         3  0  \n",
              "1   14      1       129         2     -1         0         3  0  \n",
              "2   13      1       292         2     -1         0         3  0  "
            ]
          },
          "execution_count": 269,
          "metadata": {},
          "output_type": "execute_result"
        }
      ],
      "source": [
        "#Armando el DataFrame de Entrenamiento\n",
        "x_train_under=pd.DataFrame(x_train_under,columns=predictores)\n",
        "y_train_under=pd.DataFrame(y_train_under,columns=[y])\n",
        "df_train=pd.concat([x_train_under,y_train_under],axis=1)\n",
        "df_train.head(3)"
      ]
    },
    {
      "cell_type": "code",
      "execution_count": null,
      "id": "6955d60f-48f5-4327-b7c6-216e2fd5784a",
      "metadata": {
        "id": "6955d60f-48f5-4327-b7c6-216e2fd5784a",
        "outputId": "df56108e-db46-4717-b849-6b0d37e511bb"
      },
      "outputs": [
        {
          "data": {
            "text/plain": [
              "8329"
            ]
          },
          "execution_count": 271,
          "metadata": {},
          "output_type": "execute_result"
        }
      ],
      "source": [
        "len(df_train) # son los datos de entrenamiento balanceados por Under Sampling"
      ]
    },
    {
      "cell_type": "code",
      "execution_count": null,
      "id": "3884fdb3-6561-4154-a425-d26f8cca4953",
      "metadata": {
        "id": "3884fdb3-6561-4154-a425-d26f8cca4953"
      },
      "outputs": [],
      "source": [
        "#Armando el DataFrame de Testeo\n",
        "x_test=pd.DataFrame(x_test,columns=predictores)\n",
        "y_test=pd.DataFrame(y_test,columns=[y])\n",
        "df_test=pd.concat([x_test,y_test],axis=1)"
      ]
    },
    {
      "cell_type": "code",
      "execution_count": null,
      "id": "746abc6a-ab83-4084-9892-38fe2c75a948",
      "metadata": {
        "id": "746abc6a-ab83-4084-9892-38fe2c75a948",
        "outputId": "abc121b6-c04e-4441-f92b-9dea487e546c"
      },
      "outputs": [
        {
          "data": {
            "text/plain": [
              "13564"
            ]
          },
          "execution_count": 275,
          "metadata": {},
          "output_type": "execute_result"
        }
      ],
      "source": [
        "len(df_test)"
      ]
    },
    {
      "cell_type": "markdown",
      "id": "768bfbe6-2686-4a47-8711-e649227be549",
      "metadata": {
        "id": "768bfbe6-2686-4a47-8711-e649227be549"
      },
      "source": [
        "**_Discretización de datos_**"
      ]
    },
    {
      "cell_type": "code",
      "execution_count": null,
      "id": "1e9bff74-2392-4d5f-a358-1914e58197ea",
      "metadata": {
        "id": "1e9bff74-2392-4d5f-a358-1914e58197ea"
      },
      "outputs": [],
      "source": [
        "from sklearn.preprocessing import KBinsDiscretizer"
      ]
    },
    {
      "cell_type": "code",
      "execution_count": null,
      "id": "9aec2531-a987-44ab-898b-8ec6091da2e3",
      "metadata": {
        "id": "9aec2531-a987-44ab-898b-8ec6091da2e3"
      },
      "outputs": [],
      "source": [
        "#Instanciamos un objeto de clase KBinsDiscretizer\n",
        "kmeans=KBinsDiscretizer(n_bins=2, #dos categorías\n",
        "                     encode='ordinal',\n",
        "                     strategy='kmeans')"
      ]
    },
    {
      "cell_type": "code",
      "execution_count": null,
      "id": "98e407a6-9da1-48dd-82ca-fc385734d609",
      "metadata": {
        "id": "98e407a6-9da1-48dd-82ca-fc385734d609"
      },
      "outputs": [],
      "source": [
        "#Discretizando variables seleccionadas\n",
        "data_kmeans_train=kmeans.fit_transform(df_train[['age','balance','day','month','duration','campaign','pdays','previous'  ]])\n",
        "data_kmeans_test=kmeans.fit_transform(df_test[['age','balance','day','month','duration','campaign','pdays','previous']])"
      ]
    },
    {
      "cell_type": "code",
      "execution_count": null,
      "id": "2d4a37d8-87de-4a42-be71-826ed3e4ecf2",
      "metadata": {
        "id": "2d4a37d8-87de-4a42-be71-826ed3e4ecf2"
      },
      "outputs": [],
      "source": [
        "data_kmeans_train=pd.DataFrame(data_kmeans_train,columns=['age','balance','day','month','duration','campaign','pdays','previous' ])\n",
        "data_kmeans_test=pd.DataFrame(data_kmeans_test, columns=['age','balance','day','month','duration','campaign','pdays','previous' ])"
      ]
    },
    {
      "cell_type": "code",
      "execution_count": null,
      "id": "ac175020-ef7e-4164-ba37-f1131dc8052c",
      "metadata": {
        "id": "ac175020-ef7e-4164-ba37-f1131dc8052c"
      },
      "outputs": [],
      "source": [
        "#Actualizando las variables discretizadas train\n",
        "df_train.age=data_kmeans_train.age\n",
        "df_train.balance=data_kmeans_train.balance\n",
        "df_train.day=data_kmeans_train.day\n",
        "df_train.month=data_kmeans_train.month\n",
        "df_train.duration=data_kmeans_train.duration\n",
        "df_train.campaign=data_kmeans_train.campaign\n",
        "df_train.pdays=data_kmeans_train.pdays\n",
        "df_train.previous=data_kmeans_train.previous\n",
        "\n"
      ]
    },
    {
      "cell_type": "code",
      "execution_count": null,
      "id": "44147558-1f93-4ff7-9b90-171816dc9881",
      "metadata": {
        "id": "44147558-1f93-4ff7-9b90-171816dc9881"
      },
      "outputs": [],
      "source": [
        "#Actualizando las variables discretizadas test\n",
        "df_test.age=data_kmeans_test.age\n",
        "df_test.balance=data_kmeans_test.balance\n",
        "df_test.day=data_kmeans_test.day\n",
        "df_test.month=data_kmeans_test.month\n",
        "df_test.duration=data_kmeans_test.duration\n",
        "df_test.campaign=data_kmeans_test.campaign\n",
        "df_test.pdays=data_kmeans_test.pdays\n",
        "df_test.previous=data_kmeans_test.previous"
      ]
    },
    {
      "cell_type": "code",
      "execution_count": null,
      "id": "3614347c-4431-4e62-8363-d9061abf3858",
      "metadata": {
        "id": "3614347c-4431-4e62-8363-d9061abf3858",
        "outputId": "c7614ec3-6836-4fef-e690-5b6c2567d23a"
      },
      "outputs": [
        {
          "data": {
            "text/html": [
              "<div>\n",
              "<style scoped>\n",
              "    .dataframe tbody tr th:only-of-type {\n",
              "        vertical-align: middle;\n",
              "    }\n",
              "\n",
              "    .dataframe tbody tr th {\n",
              "        vertical-align: top;\n",
              "    }\n",
              "\n",
              "    .dataframe thead th {\n",
              "        text-align: right;\n",
              "    }\n",
              "</style>\n",
              "<table border=\"1\" class=\"dataframe\">\n",
              "  <thead>\n",
              "    <tr style=\"text-align: right;\">\n",
              "      <th></th>\n",
              "      <th>age</th>\n",
              "      <th>job</th>\n",
              "      <th>marital</th>\n",
              "      <th>education</th>\n",
              "      <th>default</th>\n",
              "      <th>balance</th>\n",
              "      <th>housing</th>\n",
              "      <th>loan</th>\n",
              "      <th>contact</th>\n",
              "      <th>day</th>\n",
              "      <th>month</th>\n",
              "      <th>duration</th>\n",
              "      <th>campaign</th>\n",
              "      <th>pdays</th>\n",
              "      <th>previous</th>\n",
              "      <th>poutcome</th>\n",
              "      <th>y</th>\n",
              "    </tr>\n",
              "  </thead>\n",
              "  <tbody>\n",
              "    <tr>\n",
              "      <th>0</th>\n",
              "      <td>0.0</td>\n",
              "      <td>0</td>\n",
              "      <td>1</td>\n",
              "      <td>1</td>\n",
              "      <td>0</td>\n",
              "      <td>0.0</td>\n",
              "      <td>1</td>\n",
              "      <td>0</td>\n",
              "      <td>2</td>\n",
              "      <td>0.0</td>\n",
              "      <td>1.0</td>\n",
              "      <td>0.0</td>\n",
              "      <td>0.0</td>\n",
              "      <td>0.0</td>\n",
              "      <td>0.0</td>\n",
              "      <td>3</td>\n",
              "      <td>0</td>\n",
              "    </tr>\n",
              "    <tr>\n",
              "      <th>1</th>\n",
              "      <td>0.0</td>\n",
              "      <td>1</td>\n",
              "      <td>1</td>\n",
              "      <td>1</td>\n",
              "      <td>0</td>\n",
              "      <td>0.0</td>\n",
              "      <td>1</td>\n",
              "      <td>1</td>\n",
              "      <td>2</td>\n",
              "      <td>1.0</td>\n",
              "      <td>1.0</td>\n",
              "      <td>0.0</td>\n",
              "      <td>0.0</td>\n",
              "      <td>0.0</td>\n",
              "      <td>0.0</td>\n",
              "      <td>3</td>\n",
              "      <td>0</td>\n",
              "    </tr>\n",
              "    <tr>\n",
              "      <th>2</th>\n",
              "      <td>0.0</td>\n",
              "      <td>0</td>\n",
              "      <td>0</td>\n",
              "      <td>1</td>\n",
              "      <td>0</td>\n",
              "      <td>0.0</td>\n",
              "      <td>1</td>\n",
              "      <td>1</td>\n",
              "      <td>2</td>\n",
              "      <td>1.0</td>\n",
              "      <td>1.0</td>\n",
              "      <td>0.0</td>\n",
              "      <td>0.0</td>\n",
              "      <td>0.0</td>\n",
              "      <td>0.0</td>\n",
              "      <td>3</td>\n",
              "      <td>0</td>\n",
              "    </tr>\n",
              "  </tbody>\n",
              "</table>\n",
              "</div>"
            ],
            "text/plain": [
              "   age  job  marital  education  default  balance  housing  loan  contact  \\\n",
              "0  0.0    0        1          1        0      0.0        1     0        2   \n",
              "1  0.0    1        1          1        0      0.0        1     1        2   \n",
              "2  0.0    0        0          1        0      0.0        1     1        2   \n",
              "\n",
              "   day  month  duration  campaign  pdays  previous  poutcome  y  \n",
              "0  0.0    1.0       0.0       0.0    0.0       0.0         3  0  \n",
              "1  1.0    1.0       0.0       0.0    0.0       0.0         3  0  \n",
              "2  1.0    1.0       0.0       0.0    0.0       0.0         3  0  "
            ]
          },
          "execution_count": 289,
          "metadata": {},
          "output_type": "execute_result"
        }
      ],
      "source": [
        "df_test.head(3)"
      ]
    },
    {
      "cell_type": "code",
      "execution_count": null,
      "id": "684a5be5-fcb5-446d-a596-8413907aacfe",
      "metadata": {
        "id": "684a5be5-fcb5-446d-a596-8413907aacfe",
        "outputId": "5c1010cd-1671-4daf-abd4-ae02d92730a6"
      },
      "outputs": [
        {
          "name": "stdout",
          "output_type": "stream",
          "text": [
            "<class 'pandas.core.frame.DataFrame'>\n",
            "RangeIndex: 8329 entries, 0 to 8328\n",
            "Data columns (total 17 columns):\n",
            " #   Column     Non-Null Count  Dtype  \n",
            "---  ------     --------------  -----  \n",
            " 0   age        8329 non-null   float64\n",
            " 1   job        8329 non-null   int64  \n",
            " 2   marital    8329 non-null   int64  \n",
            " 3   education  8329 non-null   int64  \n",
            " 4   default    8329 non-null   int64  \n",
            " 5   balance    8329 non-null   float64\n",
            " 6   housing    8329 non-null   int64  \n",
            " 7   loan       8329 non-null   int64  \n",
            " 8   contact    8329 non-null   int64  \n",
            " 9   day        8329 non-null   float64\n",
            " 10  month      8329 non-null   float64\n",
            " 11  duration   8329 non-null   float64\n",
            " 12  campaign   8329 non-null   float64\n",
            " 13  pdays      8329 non-null   float64\n",
            " 14  previous   8329 non-null   float64\n",
            " 15  poutcome   8329 non-null   int64  \n",
            " 16  y          8329 non-null   int32  \n",
            "dtypes: float64(8), int32(1), int64(8)\n",
            "memory usage: 1.0 MB\n"
          ]
        }
      ],
      "source": [
        "df_train.info()"
      ]
    },
    {
      "cell_type": "markdown",
      "id": "9646bff4-9aac-4cc6-ada0-14be769f9de2",
      "metadata": {
        "id": "9646bff4-9aac-4cc6-ada0-14be769f9de2"
      },
      "source": [
        "# 7.-**_Entrenamiento del Modelo_**"
      ]
    },
    {
      "cell_type": "code",
      "execution_count": null,
      "id": "c6c2ca35-5780-4bf0-9431-973b7f235986",
      "metadata": {
        "id": "c6c2ca35-5780-4bf0-9431-973b7f235986"
      },
      "outputs": [],
      "source": [
        "xtrain,ytrain=df_train.iloc[:,0:16].values,df_train.iloc[:,16].values\n",
        "xtest,ytest=df_test.iloc[:,0:16].values,df_test.iloc[:,16].values\n"
      ]
    },
    {
      "cell_type": "code",
      "execution_count": null,
      "id": "d2c7a651-fbbb-4399-bbe4-ee372b871c7c",
      "metadata": {
        "id": "d2c7a651-fbbb-4399-bbe4-ee372b871c7c"
      },
      "outputs": [],
      "source": [
        "from sklearn.naive_bayes import GaussianNB"
      ]
    },
    {
      "cell_type": "code",
      "execution_count": null,
      "id": "6c54e4f2-ed73-4e7c-b28b-c5d8fae86e55",
      "metadata": {
        "id": "6c54e4f2-ed73-4e7c-b28b-c5d8fae86e55"
      },
      "outputs": [],
      "source": [
        "#Instanciar un objeto de clase GaussianNB\n",
        "modelo_nb= GaussianNB()"
      ]
    },
    {
      "cell_type": "code",
      "execution_count": null,
      "id": "8cbd8339-750f-4fcf-aded-c5f15c01df1b",
      "metadata": {
        "id": "8cbd8339-750f-4fcf-aded-c5f15c01df1b",
        "outputId": "703ef3e3-2689-403b-8edf-8dfa1d378ae1"
      },
      "outputs": [
        {
          "data": {
            "text/html": [
              "<style>#sk-container-id-3 {\n",
              "  /* Definition of color scheme common for light and dark mode */\n",
              "  --sklearn-color-text: #000;\n",
              "  --sklearn-color-text-muted: #666;\n",
              "  --sklearn-color-line: gray;\n",
              "  /* Definition of color scheme for unfitted estimators */\n",
              "  --sklearn-color-unfitted-level-0: #fff5e6;\n",
              "  --sklearn-color-unfitted-level-1: #f6e4d2;\n",
              "  --sklearn-color-unfitted-level-2: #ffe0b3;\n",
              "  --sklearn-color-unfitted-level-3: chocolate;\n",
              "  /* Definition of color scheme for fitted estimators */\n",
              "  --sklearn-color-fitted-level-0: #f0f8ff;\n",
              "  --sklearn-color-fitted-level-1: #d4ebff;\n",
              "  --sklearn-color-fitted-level-2: #b3dbfd;\n",
              "  --sklearn-color-fitted-level-3: cornflowerblue;\n",
              "\n",
              "  /* Specific color for light theme */\n",
              "  --sklearn-color-text-on-default-background: var(--sg-text-color, var(--theme-code-foreground, var(--jp-content-font-color1, black)));\n",
              "  --sklearn-color-background: var(--sg-background-color, var(--theme-background, var(--jp-layout-color0, white)));\n",
              "  --sklearn-color-border-box: var(--sg-text-color, var(--theme-code-foreground, var(--jp-content-font-color1, black)));\n",
              "  --sklearn-color-icon: #696969;\n",
              "\n",
              "  @media (prefers-color-scheme: dark) {\n",
              "    /* Redefinition of color scheme for dark theme */\n",
              "    --sklearn-color-text-on-default-background: var(--sg-text-color, var(--theme-code-foreground, var(--jp-content-font-color1, white)));\n",
              "    --sklearn-color-background: var(--sg-background-color, var(--theme-background, var(--jp-layout-color0, #111)));\n",
              "    --sklearn-color-border-box: var(--sg-text-color, var(--theme-code-foreground, var(--jp-content-font-color1, white)));\n",
              "    --sklearn-color-icon: #878787;\n",
              "  }\n",
              "}\n",
              "\n",
              "#sk-container-id-3 {\n",
              "  color: var(--sklearn-color-text);\n",
              "}\n",
              "\n",
              "#sk-container-id-3 pre {\n",
              "  padding: 0;\n",
              "}\n",
              "\n",
              "#sk-container-id-3 input.sk-hidden--visually {\n",
              "  border: 0;\n",
              "  clip: rect(1px 1px 1px 1px);\n",
              "  clip: rect(1px, 1px, 1px, 1px);\n",
              "  height: 1px;\n",
              "  margin: -1px;\n",
              "  overflow: hidden;\n",
              "  padding: 0;\n",
              "  position: absolute;\n",
              "  width: 1px;\n",
              "}\n",
              "\n",
              "#sk-container-id-3 div.sk-dashed-wrapped {\n",
              "  border: 1px dashed var(--sklearn-color-line);\n",
              "  margin: 0 0.4em 0.5em 0.4em;\n",
              "  box-sizing: border-box;\n",
              "  padding-bottom: 0.4em;\n",
              "  background-color: var(--sklearn-color-background);\n",
              "}\n",
              "\n",
              "#sk-container-id-3 div.sk-container {\n",
              "  /* jupyter's `normalize.less` sets `[hidden] { display: none; }`\n",
              "     but bootstrap.min.css set `[hidden] { display: none !important; }`\n",
              "     so we also need the `!important` here to be able to override the\n",
              "     default hidden behavior on the sphinx rendered scikit-learn.org.\n",
              "     See: https://github.com/scikit-learn/scikit-learn/issues/21755 */\n",
              "  display: inline-block !important;\n",
              "  position: relative;\n",
              "}\n",
              "\n",
              "#sk-container-id-3 div.sk-text-repr-fallback {\n",
              "  display: none;\n",
              "}\n",
              "\n",
              "div.sk-parallel-item,\n",
              "div.sk-serial,\n",
              "div.sk-item {\n",
              "  /* draw centered vertical line to link estimators */\n",
              "  background-image: linear-gradient(var(--sklearn-color-text-on-default-background), var(--sklearn-color-text-on-default-background));\n",
              "  background-size: 2px 100%;\n",
              "  background-repeat: no-repeat;\n",
              "  background-position: center center;\n",
              "}\n",
              "\n",
              "/* Parallel-specific style estimator block */\n",
              "\n",
              "#sk-container-id-3 div.sk-parallel-item::after {\n",
              "  content: \"\";\n",
              "  width: 100%;\n",
              "  border-bottom: 2px solid var(--sklearn-color-text-on-default-background);\n",
              "  flex-grow: 1;\n",
              "}\n",
              "\n",
              "#sk-container-id-3 div.sk-parallel {\n",
              "  display: flex;\n",
              "  align-items: stretch;\n",
              "  justify-content: center;\n",
              "  background-color: var(--sklearn-color-background);\n",
              "  position: relative;\n",
              "}\n",
              "\n",
              "#sk-container-id-3 div.sk-parallel-item {\n",
              "  display: flex;\n",
              "  flex-direction: column;\n",
              "}\n",
              "\n",
              "#sk-container-id-3 div.sk-parallel-item:first-child::after {\n",
              "  align-self: flex-end;\n",
              "  width: 50%;\n",
              "}\n",
              "\n",
              "#sk-container-id-3 div.sk-parallel-item:last-child::after {\n",
              "  align-self: flex-start;\n",
              "  width: 50%;\n",
              "}\n",
              "\n",
              "#sk-container-id-3 div.sk-parallel-item:only-child::after {\n",
              "  width: 0;\n",
              "}\n",
              "\n",
              "/* Serial-specific style estimator block */\n",
              "\n",
              "#sk-container-id-3 div.sk-serial {\n",
              "  display: flex;\n",
              "  flex-direction: column;\n",
              "  align-items: center;\n",
              "  background-color: var(--sklearn-color-background);\n",
              "  padding-right: 1em;\n",
              "  padding-left: 1em;\n",
              "}\n",
              "\n",
              "\n",
              "/* Toggleable style: style used for estimator/Pipeline/ColumnTransformer box that is\n",
              "clickable and can be expanded/collapsed.\n",
              "- Pipeline and ColumnTransformer use this feature and define the default style\n",
              "- Estimators will overwrite some part of the style using the `sk-estimator` class\n",
              "*/\n",
              "\n",
              "/* Pipeline and ColumnTransformer style (default) */\n",
              "\n",
              "#sk-container-id-3 div.sk-toggleable {\n",
              "  /* Default theme specific background. It is overwritten whether we have a\n",
              "  specific estimator or a Pipeline/ColumnTransformer */\n",
              "  background-color: var(--sklearn-color-background);\n",
              "}\n",
              "\n",
              "/* Toggleable label */\n",
              "#sk-container-id-3 label.sk-toggleable__label {\n",
              "  cursor: pointer;\n",
              "  display: flex;\n",
              "  width: 100%;\n",
              "  margin-bottom: 0;\n",
              "  padding: 0.5em;\n",
              "  box-sizing: border-box;\n",
              "  text-align: center;\n",
              "  align-items: start;\n",
              "  justify-content: space-between;\n",
              "  gap: 0.5em;\n",
              "}\n",
              "\n",
              "#sk-container-id-3 label.sk-toggleable__label .caption {\n",
              "  font-size: 0.6rem;\n",
              "  font-weight: lighter;\n",
              "  color: var(--sklearn-color-text-muted);\n",
              "}\n",
              "\n",
              "#sk-container-id-3 label.sk-toggleable__label-arrow:before {\n",
              "  /* Arrow on the left of the label */\n",
              "  content: \"▸\";\n",
              "  float: left;\n",
              "  margin-right: 0.25em;\n",
              "  color: var(--sklearn-color-icon);\n",
              "}\n",
              "\n",
              "#sk-container-id-3 label.sk-toggleable__label-arrow:hover:before {\n",
              "  color: var(--sklearn-color-text);\n",
              "}\n",
              "\n",
              "/* Toggleable content - dropdown */\n",
              "\n",
              "#sk-container-id-3 div.sk-toggleable__content {\n",
              "  max-height: 0;\n",
              "  max-width: 0;\n",
              "  overflow: hidden;\n",
              "  text-align: left;\n",
              "  /* unfitted */\n",
              "  background-color: var(--sklearn-color-unfitted-level-0);\n",
              "}\n",
              "\n",
              "#sk-container-id-3 div.sk-toggleable__content.fitted {\n",
              "  /* fitted */\n",
              "  background-color: var(--sklearn-color-fitted-level-0);\n",
              "}\n",
              "\n",
              "#sk-container-id-3 div.sk-toggleable__content pre {\n",
              "  margin: 0.2em;\n",
              "  border-radius: 0.25em;\n",
              "  color: var(--sklearn-color-text);\n",
              "  /* unfitted */\n",
              "  background-color: var(--sklearn-color-unfitted-level-0);\n",
              "}\n",
              "\n",
              "#sk-container-id-3 div.sk-toggleable__content.fitted pre {\n",
              "  /* unfitted */\n",
              "  background-color: var(--sklearn-color-fitted-level-0);\n",
              "}\n",
              "\n",
              "#sk-container-id-3 input.sk-toggleable__control:checked~div.sk-toggleable__content {\n",
              "  /* Expand drop-down */\n",
              "  max-height: 200px;\n",
              "  max-width: 100%;\n",
              "  overflow: auto;\n",
              "}\n",
              "\n",
              "#sk-container-id-3 input.sk-toggleable__control:checked~label.sk-toggleable__label-arrow:before {\n",
              "  content: \"▾\";\n",
              "}\n",
              "\n",
              "/* Pipeline/ColumnTransformer-specific style */\n",
              "\n",
              "#sk-container-id-3 div.sk-label input.sk-toggleable__control:checked~label.sk-toggleable__label {\n",
              "  color: var(--sklearn-color-text);\n",
              "  background-color: var(--sklearn-color-unfitted-level-2);\n",
              "}\n",
              "\n",
              "#sk-container-id-3 div.sk-label.fitted input.sk-toggleable__control:checked~label.sk-toggleable__label {\n",
              "  background-color: var(--sklearn-color-fitted-level-2);\n",
              "}\n",
              "\n",
              "/* Estimator-specific style */\n",
              "\n",
              "/* Colorize estimator box */\n",
              "#sk-container-id-3 div.sk-estimator input.sk-toggleable__control:checked~label.sk-toggleable__label {\n",
              "  /* unfitted */\n",
              "  background-color: var(--sklearn-color-unfitted-level-2);\n",
              "}\n",
              "\n",
              "#sk-container-id-3 div.sk-estimator.fitted input.sk-toggleable__control:checked~label.sk-toggleable__label {\n",
              "  /* fitted */\n",
              "  background-color: var(--sklearn-color-fitted-level-2);\n",
              "}\n",
              "\n",
              "#sk-container-id-3 div.sk-label label.sk-toggleable__label,\n",
              "#sk-container-id-3 div.sk-label label {\n",
              "  /* The background is the default theme color */\n",
              "  color: var(--sklearn-color-text-on-default-background);\n",
              "}\n",
              "\n",
              "/* On hover, darken the color of the background */\n",
              "#sk-container-id-3 div.sk-label:hover label.sk-toggleable__label {\n",
              "  color: var(--sklearn-color-text);\n",
              "  background-color: var(--sklearn-color-unfitted-level-2);\n",
              "}\n",
              "\n",
              "/* Label box, darken color on hover, fitted */\n",
              "#sk-container-id-3 div.sk-label.fitted:hover label.sk-toggleable__label.fitted {\n",
              "  color: var(--sklearn-color-text);\n",
              "  background-color: var(--sklearn-color-fitted-level-2);\n",
              "}\n",
              "\n",
              "/* Estimator label */\n",
              "\n",
              "#sk-container-id-3 div.sk-label label {\n",
              "  font-family: monospace;\n",
              "  font-weight: bold;\n",
              "  display: inline-block;\n",
              "  line-height: 1.2em;\n",
              "}\n",
              "\n",
              "#sk-container-id-3 div.sk-label-container {\n",
              "  text-align: center;\n",
              "}\n",
              "\n",
              "/* Estimator-specific */\n",
              "#sk-container-id-3 div.sk-estimator {\n",
              "  font-family: monospace;\n",
              "  border: 1px dotted var(--sklearn-color-border-box);\n",
              "  border-radius: 0.25em;\n",
              "  box-sizing: border-box;\n",
              "  margin-bottom: 0.5em;\n",
              "  /* unfitted */\n",
              "  background-color: var(--sklearn-color-unfitted-level-0);\n",
              "}\n",
              "\n",
              "#sk-container-id-3 div.sk-estimator.fitted {\n",
              "  /* fitted */\n",
              "  background-color: var(--sklearn-color-fitted-level-0);\n",
              "}\n",
              "\n",
              "/* on hover */\n",
              "#sk-container-id-3 div.sk-estimator:hover {\n",
              "  /* unfitted */\n",
              "  background-color: var(--sklearn-color-unfitted-level-2);\n",
              "}\n",
              "\n",
              "#sk-container-id-3 div.sk-estimator.fitted:hover {\n",
              "  /* fitted */\n",
              "  background-color: var(--sklearn-color-fitted-level-2);\n",
              "}\n",
              "\n",
              "/* Specification for estimator info (e.g. \"i\" and \"?\") */\n",
              "\n",
              "/* Common style for \"i\" and \"?\" */\n",
              "\n",
              ".sk-estimator-doc-link,\n",
              "a:link.sk-estimator-doc-link,\n",
              "a:visited.sk-estimator-doc-link {\n",
              "  float: right;\n",
              "  font-size: smaller;\n",
              "  line-height: 1em;\n",
              "  font-family: monospace;\n",
              "  background-color: var(--sklearn-color-background);\n",
              "  border-radius: 1em;\n",
              "  height: 1em;\n",
              "  width: 1em;\n",
              "  text-decoration: none !important;\n",
              "  margin-left: 0.5em;\n",
              "  text-align: center;\n",
              "  /* unfitted */\n",
              "  border: var(--sklearn-color-unfitted-level-1) 1pt solid;\n",
              "  color: var(--sklearn-color-unfitted-level-1);\n",
              "}\n",
              "\n",
              ".sk-estimator-doc-link.fitted,\n",
              "a:link.sk-estimator-doc-link.fitted,\n",
              "a:visited.sk-estimator-doc-link.fitted {\n",
              "  /* fitted */\n",
              "  border: var(--sklearn-color-fitted-level-1) 1pt solid;\n",
              "  color: var(--sklearn-color-fitted-level-1);\n",
              "}\n",
              "\n",
              "/* On hover */\n",
              "div.sk-estimator:hover .sk-estimator-doc-link:hover,\n",
              ".sk-estimator-doc-link:hover,\n",
              "div.sk-label-container:hover .sk-estimator-doc-link:hover,\n",
              ".sk-estimator-doc-link:hover {\n",
              "  /* unfitted */\n",
              "  background-color: var(--sklearn-color-unfitted-level-3);\n",
              "  color: var(--sklearn-color-background);\n",
              "  text-decoration: none;\n",
              "}\n",
              "\n",
              "div.sk-estimator.fitted:hover .sk-estimator-doc-link.fitted:hover,\n",
              ".sk-estimator-doc-link.fitted:hover,\n",
              "div.sk-label-container:hover .sk-estimator-doc-link.fitted:hover,\n",
              ".sk-estimator-doc-link.fitted:hover {\n",
              "  /* fitted */\n",
              "  background-color: var(--sklearn-color-fitted-level-3);\n",
              "  color: var(--sklearn-color-background);\n",
              "  text-decoration: none;\n",
              "}\n",
              "\n",
              "/* Span, style for the box shown on hovering the info icon */\n",
              ".sk-estimator-doc-link span {\n",
              "  display: none;\n",
              "  z-index: 9999;\n",
              "  position: relative;\n",
              "  font-weight: normal;\n",
              "  right: .2ex;\n",
              "  padding: .5ex;\n",
              "  margin: .5ex;\n",
              "  width: min-content;\n",
              "  min-width: 20ex;\n",
              "  max-width: 50ex;\n",
              "  color: var(--sklearn-color-text);\n",
              "  box-shadow: 2pt 2pt 4pt #999;\n",
              "  /* unfitted */\n",
              "  background: var(--sklearn-color-unfitted-level-0);\n",
              "  border: .5pt solid var(--sklearn-color-unfitted-level-3);\n",
              "}\n",
              "\n",
              ".sk-estimator-doc-link.fitted span {\n",
              "  /* fitted */\n",
              "  background: var(--sklearn-color-fitted-level-0);\n",
              "  border: var(--sklearn-color-fitted-level-3);\n",
              "}\n",
              "\n",
              ".sk-estimator-doc-link:hover span {\n",
              "  display: block;\n",
              "}\n",
              "\n",
              "/* \"?\"-specific style due to the `<a>` HTML tag */\n",
              "\n",
              "#sk-container-id-3 a.estimator_doc_link {\n",
              "  float: right;\n",
              "  font-size: 1rem;\n",
              "  line-height: 1em;\n",
              "  font-family: monospace;\n",
              "  background-color: var(--sklearn-color-background);\n",
              "  border-radius: 1rem;\n",
              "  height: 1rem;\n",
              "  width: 1rem;\n",
              "  text-decoration: none;\n",
              "  /* unfitted */\n",
              "  color: var(--sklearn-color-unfitted-level-1);\n",
              "  border: var(--sklearn-color-unfitted-level-1) 1pt solid;\n",
              "}\n",
              "\n",
              "#sk-container-id-3 a.estimator_doc_link.fitted {\n",
              "  /* fitted */\n",
              "  border: var(--sklearn-color-fitted-level-1) 1pt solid;\n",
              "  color: var(--sklearn-color-fitted-level-1);\n",
              "}\n",
              "\n",
              "/* On hover */\n",
              "#sk-container-id-3 a.estimator_doc_link:hover {\n",
              "  /* unfitted */\n",
              "  background-color: var(--sklearn-color-unfitted-level-3);\n",
              "  color: var(--sklearn-color-background);\n",
              "  text-decoration: none;\n",
              "}\n",
              "\n",
              "#sk-container-id-3 a.estimator_doc_link.fitted:hover {\n",
              "  /* fitted */\n",
              "  background-color: var(--sklearn-color-fitted-level-3);\n",
              "}\n",
              "</style><div id=\"sk-container-id-3\" class=\"sk-top-container\"><div class=\"sk-text-repr-fallback\"><pre>GaussianNB()</pre><b>In a Jupyter environment, please rerun this cell to show the HTML representation or trust the notebook. <br />On GitHub, the HTML representation is unable to render, please try loading this page with nbviewer.org.</b></div><div class=\"sk-container\" hidden><div class=\"sk-item\"><div class=\"sk-estimator fitted sk-toggleable\"><input class=\"sk-toggleable__control sk-hidden--visually\" id=\"sk-estimator-id-3\" type=\"checkbox\" checked><label for=\"sk-estimator-id-3\" class=\"sk-toggleable__label fitted sk-toggleable__label-arrow\"><div><div>GaussianNB</div></div><div><a class=\"sk-estimator-doc-link fitted\" rel=\"noreferrer\" target=\"_blank\" href=\"https://scikit-learn.org/1.6/modules/generated/sklearn.naive_bayes.GaussianNB.html\">?<span>Documentation for GaussianNB</span></a><span class=\"sk-estimator-doc-link fitted\">i<span>Fitted</span></span></div></label><div class=\"sk-toggleable__content fitted\"><pre>GaussianNB()</pre></div> </div></div></div></div>"
            ],
            "text/plain": [
              "GaussianNB()"
            ]
          },
          "execution_count": 299,
          "metadata": {},
          "output_type": "execute_result"
        }
      ],
      "source": [
        "#Aprendemos de los datos de entrenamiento\n",
        "modelo_nb.fit(xtrain,ytrain)"
      ]
    },
    {
      "cell_type": "code",
      "execution_count": null,
      "id": "ea96abee-45da-4b71-9d87-2caae4381199",
      "metadata": {
        "id": "ea96abee-45da-4b71-9d87-2caae4381199"
      },
      "outputs": [],
      "source": [
        "\n",
        "# La función predic_proba(): ayuda a predecir las probabilidades de \"y=yes\" o \"y=no\"."
      ]
    },
    {
      "cell_type": "code",
      "execution_count": null,
      "id": "7ca321c7-f036-4ab9-98cb-8c7b3b0d039f",
      "metadata": {
        "id": "7ca321c7-f036-4ab9-98cb-8c7b3b0d039f",
        "outputId": "3a46417c-85d3-45dc-b3fb-714bfb97643e"
      },
      "outputs": [
        {
          "data": {
            "text/plain": [
              "array([0, 0, 0, ..., 1, 1, 0])"
            ]
          },
          "execution_count": 301,
          "metadata": {},
          "output_type": "execute_result"
        }
      ],
      "source": [
        "#Calculamos los valores predichos para la Data de Entrenamiento\n",
        "# La función predict(): ayuda a predecir la categoría\n",
        "ypredicho_train=modelo_nb.predict(xtrain)\n",
        "ypredicho_train\n"
      ]
    },
    {
      "cell_type": "code",
      "execution_count": null,
      "id": "f1a164d7-030a-482e-8ecb-215f56986127",
      "metadata": {
        "id": "f1a164d7-030a-482e-8ecb-215f56986127",
        "outputId": "52262fc0-ed41-4cb2-a71d-82e5ea06fe95"
      },
      "outputs": [
        {
          "data": {
            "text/plain": [
              "array([[9.99999963e-01, 3.73106806e-08],\n",
              "       [9.99997021e-01, 2.97907949e-06],\n",
              "       [9.99997145e-01, 2.85483325e-06],\n",
              "       ...,\n",
              "       [7.26237200e-02, 9.27376280e-01],\n",
              "       [1.75339585e-03, 9.98246604e-01],\n",
              "       [8.07816848e-01, 1.92183152e-01]])"
            ]
          },
          "execution_count": 303,
          "metadata": {},
          "output_type": "execute_result"
        }
      ],
      "source": [
        "# La función predic_proba(): ayuda a predecir las probabilidades de \"y=yes\" o \"y=no\".\n",
        "ypredicho_proba_train=modelo_nb.predict_proba(xtrain)\n",
        "ypredicho_proba_train"
      ]
    },
    {
      "cell_type": "markdown",
      "id": "7d64e5f9-eca3-4e62-8fd9-1f34e73be592",
      "metadata": {
        "id": "7d64e5f9-eca3-4e62-8fd9-1f34e73be592"
      },
      "source": [
        "### 7.1 **_Performance para los datos de entrenamiento_**"
      ]
    },
    {
      "cell_type": "code",
      "execution_count": null,
      "id": "b99e3402-a53a-4deb-afa9-43db4e82f456",
      "metadata": {
        "id": "b99e3402-a53a-4deb-afa9-43db4e82f456"
      },
      "outputs": [],
      "source": [
        "#Establecer nuesros nombres de etiqueta\n",
        "label_names=[0,1] # y=0(no=cliente no moroso), y=1(si=cliente moroso)"
      ]
    },
    {
      "cell_type": "code",
      "execution_count": null,
      "id": "72d0e0b9-a2a6-41f6-becd-0724403dff22",
      "metadata": {
        "id": "72d0e0b9-a2a6-41f6-becd-0724403dff22",
        "outputId": "d47572b2-24ff-4904-e811-e32d03b93f9e"
      },
      "outputs": [
        {
          "name": "stdout",
          "output_type": "stream",
          "text": [
            "Model Performance metrics:\n",
            "------------------------------\n",
            "Accuracy: 0.7078\n",
            "Precision: 0.7152\n",
            "Recall: 0.7078\n",
            "F1 Score: 0.6975\n",
            "\n",
            "Model Classification report:\n",
            "------------------------------\n",
            "              precision    recall  f1-score   support\n",
            "\n",
            "           0       0.69      0.86      0.77      4627\n",
            "           1       0.75      0.52      0.61      3702\n",
            "\n",
            "    accuracy                           0.71      8329\n",
            "   macro avg       0.72      0.69      0.69      8329\n",
            "weighted avg       0.72      0.71      0.70      8329\n",
            "\n",
            "\n",
            "Prediction Confusion Matrix:\n",
            "------------------------------\n",
            "      0     1\n",
            "0  3971   656\n",
            "1  1778  1924\n"
          ]
        }
      ],
      "source": [
        "#Analizando la performance del modelo para los Datos de Entrenamiento\n",
        "import model_evaluation_utils as meu\n",
        "meu.display_model_performance_metrics(true_labels=ytrain,\n",
        "                                     predicted_labels=ypredicho_train,\n",
        "                                     classes=label_names)"
      ]
    },
    {
      "cell_type": "code",
      "execution_count": null,
      "id": "42a62f04-076b-440c-8015-1576b1c22a4f",
      "metadata": {
        "id": "42a62f04-076b-440c-8015-1576b1c22a4f",
        "outputId": "c1dfd36d-0ad9-4088-fe6d-ee06682d2c4c"
      },
      "outputs": [
        {
          "data": {
            "image/png": "[encoded data removed]",
            "text/plain": [
              "<Figure size 640x480 with 1 Axes>"
            ]
          },
          "metadata": {},
          "output_type": "display_data"
        }
      ],
      "source": [
        "meu.plot_model_roc_curve(modelo_nb,xtrain,ytrain)"
      ]
    },
    {
      "cell_type": "code",
      "execution_count": null,
      "id": "56c51e9c-4e26-485d-a3d0-9197e706e4ab",
      "metadata": {
        "id": "56c51e9c-4e26-485d-a3d0-9197e706e4ab"
      },
      "outputs": [],
      "source": [
        "#      0           1\n",
        "# 0  3971(VN)   656(FP)\n",
        "# 1  1778(FN)  1924(VP)\n"
      ]
    },
    {
      "cell_type": "markdown",
      "id": "d94c259f-6464-46f2-859c-83ee0c642062",
      "metadata": {
        "id": "d94c259f-6464-46f2-859c-83ee0c642062"
      },
      "source": [
        "**_Accuracy_** *_= (VP+VN)/(Total de cassos)=(1924+3971)/(3971+656+1778+1924)=0.707768 Lo que indica que el modelo tiene una exactitud del 70.78% sobre los datos de entrenamiento. Esto significa que de cada 100 veces, 70.78 veces, el modelo predice correctamente si un cliente SI suscribirá(y=1) o no suscribirá(y=0) el depósito a plazo bancario._*\n",
        "\n",
        "**_Precisión_** *_= Valor predictivo positivo(VP+) = VP/(FP+VP).De las veces que el modelo predijo que un cliente suscribiría un deposito a plazo(y=1), un 71.52% de esas predicciones fueron correctas.Esto es una medida de la fiabilidad del modelo cuando predice y=1._*\n",
        "\n",
        "**_Verdaderos positivos(VP)_** *_ : 1924 (cuando el modelo predijo correctamente que un cliente suscribiría un depósito a plazo)._*\n",
        "\n",
        "**_Verdadero negativo(VN)_** *_: 3971 (cuando el cliente no suscribió un depósito y el modelo predijo correctamente que no lo haría)._*\n",
        "\n",
        "**_Falsos positivos(FP)_** *_: 656 (cuando el modelo predijo incorrectamente que un cliente suscribiría un depósito a plazo, pero en realidad no lo hizo)._*\n",
        "\n",
        "**_Falsos negativos(FN)_** *_: 778 (cuando el modelo predijo incorrectamente que el cliente no suscribiría un depósito a plazo, pero en realidad lo hizo)._*\n",
        "\n",
        "**_Recall (Sensibilidad o Tasa de verdaderos positivos)_** *_: 0.7078.El recall del 70.78% indica que el modelo identificó correctamente el 70.78% de los clientes que realmente suscribirían un depósito a plazo._*\n",
        "\n",
        "**_Curva ROC(AUC)_** *_: Un AUC de 0.78 en los datos de entrenamiento indica que el modelo tiene una capacidad razonablemente buena para discriminar entre clientes que suscribirán(Y=1) y los que no suscribirán(Y=0) el depósito a plazo. Es decir, el modelo tiene una buena capacidad para clasificar a los clientes de manera correcta en cuanto a la suscripción al depósito a plazo._*"
      ]
    },
    {
      "cell_type": "markdown",
      "id": "ee144101-8394-43ac-af61-cd1852f90923",
      "metadata": {
        "id": "ee144101-8394-43ac-af61-cd1852f90923"
      },
      "source": [
        "### 7.2 **_Performance para los datos de testeo o prueba_**"
      ]
    },
    {
      "cell_type": "code",
      "execution_count": null,
      "id": "f95732f0-9f6e-4696-9551-a83906c381ed",
      "metadata": {
        "id": "f95732f0-9f6e-4696-9551-a83906c381ed"
      },
      "outputs": [],
      "source": [
        "#Calculando los valores predichos\n",
        "ypredicho_test=modelo_nb.predict(xtest)"
      ]
    },
    {
      "cell_type": "code",
      "execution_count": null,
      "id": "c21f9c35-a9a7-47bf-8fd7-a663b0f66d97",
      "metadata": {
        "id": "c21f9c35-a9a7-47bf-8fd7-a663b0f66d97",
        "outputId": "65f4d8e8-309e-4959-9e99-773f1645e6d5"
      },
      "outputs": [
        {
          "name": "stdout",
          "output_type": "stream",
          "text": [
            "Model Performance metrics:\n",
            "------------------------------\n",
            "Accuracy: 0.7841\n",
            "Precision: 0.8581\n",
            "Recall: 0.7841\n",
            "F1 Score: 0.8121\n",
            "\n",
            "Model Classification report:\n",
            "------------------------------\n",
            "              precision    recall  f1-score   support\n",
            "\n",
            "           0       0.93      0.81      0.87     11977\n",
            "           1       0.29      0.57      0.38      1587\n",
            "\n",
            "    accuracy                           0.78     13564\n",
            "   macro avg       0.61      0.69      0.62     13564\n",
            "weighted avg       0.86      0.78      0.81     13564\n",
            "\n",
            "\n",
            "Prediction Confusion Matrix:\n",
            "------------------------------\n",
            "      0     1\n",
            "0  9739  2238\n",
            "1   690   897\n"
          ]
        }
      ],
      "source": [
        "#Evaluando la performance para el testing\n",
        "meu.display_model_performance_metrics(true_labels=ytest,\n",
        "                                      predicted_labels=ypredicho_test,\n",
        "                                      classes=label_names)"
      ]
    },
    {
      "cell_type": "code",
      "execution_count": null,
      "id": "c4c6c2db-1c7e-427a-9951-10df960a97a4",
      "metadata": {
        "id": "c4c6c2db-1c7e-427a-9951-10df960a97a4",
        "outputId": "323b84e8-d7bd-4229-bef7-395595ea80df"
      },
      "outputs": [
        {
          "data": {
            "image/png": "[encoded data removed]",
            "text/plain": [
              "<Figure size 640x480 with 1 Axes>"
            ]
          },
          "metadata": {},
          "output_type": "display_data"
        }
      ],
      "source": [
        "meu.plot_model_roc_curve(modelo_nb,xtest,ytest)"
      ]
    },
    {
      "cell_type": "markdown",
      "id": "463c3b2e-ec98-47d8-a262-7730756fc321",
      "metadata": {
        "id": "463c3b2e-ec98-47d8-a262-7730756fc321"
      },
      "source": [
        "**_Accuracy_** *_=0.7841.  La exactitud de 78.41% en los datos de prueba indica que el modelo tiene una precisión general bastante buena para predecir si un cliente suscribirá o no suscribirá un depósito a plazo._*\n",
        "\n",
        "**_Precisión_** *_= 0.8581. La precisión en los datos de prueba es del 85.81%, lo que significa que el modelo fue bastante acertado cuando predijo que un cliente suscribiría un depósito a plazo._*\n",
        "\n",
        "**_Verdaderos positivos(VP)_** *_ : 897 (cuando el modelo predijo correctamente que el cliente suscribiría el depósito a plazo)._*\n",
        "\n",
        "**_Verdadero negativo(VN)_** *_: 9739 (cuando el cliente no suscribió el depósito a plazo y el modelo predijo correctamente que no lo haría)._*\n",
        "\n",
        "**_Falsos positivos(FP)_** *_: 2238 (cuando el modelo predijo incorrectamente que el cliente suscribiría un depósito a plazo, pero en realidad no lo hizo)._*\n",
        "\n",
        "**_Falsos negativos(FN)_** *_: 690 (cuando el modelo predijo incorrectamente que el cliente no suscribiría el depósito a plazo, pero en realidad lo hizo)._*\n",
        "\n",
        "**_Recall (Sensibilidad)_** *_: 0.7841.El recall de 78.41% significa que el modelo identificó correctamente el 78.41% de los clientes que realmente suscribirían un depósito a plazo._*\n",
        "\n",
        "**_Curva ROC(AUC)_** *_: Un AUC de 0.77 en los datos de prueba muestra que el modelo sigue teniendo una buena capacidad discriminativa en los datos no vistos. La ligera disminución en el AUC de los datos de entrenamiento a los de prueba sugiere que el modelo sigue generalizando bien, sin sobreajustarse, pero con una ligera pérdida en su capacidad para diferenciar entre las clases._*"
      ]
    },
    {
      "cell_type": "markdown",
      "id": "dbd0da36-e9b0-4efe-bf8b-868344401b16",
      "metadata": {
        "id": "dbd0da36-e9b0-4efe-bf8b-868344401b16"
      },
      "source": [
        "# 8.-**_Conclusiones_**"
      ]
    },
    {
      "cell_type": "markdown",
      "id": "97b86fc3-5535-4822-9fbe-1c3f61d8cc6c",
      "metadata": {
        "id": "97b86fc3-5535-4822-9fbe-1c3f61d8cc6c"
      },
      "source": [
        "**.** *_El modelo Naive Bayes tiene un buen desempeño para predecir si un cliente suscribirá un depósito a plazo(y=1)  o no lo suscribirá(y=0)._*\n",
        "\n",
        "**.** *_En términos de precisión y recall, el modelo muestra un buen equilibrio, especialmente en los datos de prueba, donde la precisión (85.81%) y el recall (78.41%) son bastante altos._*\n",
        "\n",
        "**.** *_El AUC de 0.78 en entrenamiento y 0.77 en prueba confirma que el modelo tiene una buena capacidad de discriminación, lo que significa que puede distinguir bien entre los clientes que suscribirán el depósito a plazo y los que no._*\n",
        "\n",
        "**.** *_En resumen, el modelo parece estar bien ajustado para predecir la variable objetivo, es decir, si un cliente suscribirá un depósito a plazo o no, con un buen desempeño general tanto en el conjunto de entrenamiento como en el de prueba._*\n"
      ]
    },
    {
      "cell_type": "code",
      "execution_count": null,
      "id": "a382ad83-2d50-4379-b279-0123981b3797",
      "metadata": {
        "id": "a382ad83-2d50-4379-b279-0123981b3797"
      },
      "outputs": [],
      "source": []
    },
    {
      "cell_type": "code",
      "execution_count": null,
      "id": "53c11370-5288-4ca8-8780-6a988a63969f",
      "metadata": {
        "id": "53c11370-5288-4ca8-8780-6a988a63969f"
      },
      "outputs": [],
      "source": []
    }
  ],
  "metadata": {
    "kernelspec": {
      "display_name": "Python [conda env:base] *",
      "language": "python",
      "name": "conda-base-py"
    },
    "language_info": {
      "codemirror_mode": {
        "name": "ipython",
        "version": 3
      },
      "file_extension": ".py",
      "mimetype": "text/x-python",
      "name": "python",
      "nbconvert_exporter": "python",
      "pygments_lexer": "ipython3",
      "version": "3.11.7"
    },
    "colab": {
      "provenance": [],
      "include_colab_link": true
    }
  },
  "nbformat": 4,
  "nbformat_minor": 5
}